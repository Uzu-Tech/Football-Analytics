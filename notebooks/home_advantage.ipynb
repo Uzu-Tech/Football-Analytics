{
 "cells": [
  {
   "cell_type": "markdown",
   "id": "5a7f83b5",
   "metadata": {},
   "source": [
    "# Exploring the Impact of Home Team Advantage in Football"
   ]
  },
  {
   "cell_type": "markdown",
   "id": "4dcf2dc3",
   "metadata": {},
   "source": [
    "## Methodology\n",
    "In this analysis, we will explore the impact of home team advantage in football by:\n",
    "1. Collecting and preprocessing match data, including home and away team performance.\n",
    "2. Run a two sample z test on whether the proportion of home games won is more than away games won."
   ]
  },
  {
   "cell_type": "markdown",
   "id": "fc078477",
   "metadata": {},
   "source": [
    "## **Step 1:** Collecting and Preprocessing Match Data\n",
    "In this step, we will gather match data, including information about home and away team performances. The data will be cleaned and prepared for analysis by handling missing values, standardizing formats, and ensuring consistency. First let's load the modules and data we need"
   ]
  },
  {
   "cell_type": "code",
   "execution_count": 1,
   "id": "e5bda3a9",
   "metadata": {},
   "outputs": [
    {
     "data": {
      "text/html": [
       "<pre style=\"white-space:pre;overflow-x:auto;line-height:normal;font-family:Menlo,'DejaVu Sans Mono',consolas,'Courier New',monospace\"><span style=\"color: #7fbfbf; text-decoration-color: #7fbfbf\">[05/04/25 16:31:45] </span><span style=\"color: #000080; text-decoration-color: #000080\">INFO    </span> No custom team name replacements found. You can configure these in       <span style=\"color: #7f7f7f; text-decoration-color: #7f7f7f\">_config.py:91</span>\n",
       "<span style=\"color: #7fbfbf; text-decoration-color: #7fbfbf\">                    </span>         C:\\Users\\DELL\\soccerdata\\config\\teamname_replacements.json.              <span style=\"color: #7f7f7f; text-decoration-color: #7f7f7f\">             </span>\n",
       "</pre>\n"
      ],
      "text/plain": [
       "\u001b[2;36m[05/04/25 16:31:45]\u001b[0m\u001b[2;36m \u001b[0m\u001b[34mINFO    \u001b[0m No custom team name replacements found. You can configure these in       \u001b[2m_config.py\u001b[0m\u001b[2m:\u001b[0m\u001b[2m91\u001b[0m\n",
       "\u001b[2;36m                    \u001b[0m         C:\\Users\\DELL\\soccerdata\\config\\teamname_replacements.json.              \u001b[2m             \u001b[0m\n"
      ]
     },
     "metadata": {},
     "output_type": "display_data"
    },
    {
     "data": {
      "text/html": [
       "<pre style=\"white-space:pre;overflow-x:auto;line-height:normal;font-family:Menlo,'DejaVu Sans Mono',consolas,'Courier New',monospace\"><span style=\"color: #7fbfbf; text-decoration-color: #7fbfbf\">                    </span><span style=\"color: #000080; text-decoration-color: #000080\">INFO    </span> No custom league dict found. You can configure additional leagues in    <span style=\"color: #7f7f7f; text-decoration-color: #7f7f7f\">_config.py:197</span>\n",
       "<span style=\"color: #7fbfbf; text-decoration-color: #7fbfbf\">                    </span>         C:\\Users\\DELL\\soccerdata\\config\\league_dict.json.                       <span style=\"color: #7f7f7f; text-decoration-color: #7f7f7f\">              </span>\n",
       "</pre>\n"
      ],
      "text/plain": [
       "\u001b[2;36m                   \u001b[0m\u001b[2;36m \u001b[0m\u001b[34mINFO    \u001b[0m No custom league dict found. You can configure additional leagues in    \u001b[2m_config.py\u001b[0m\u001b[2m:\u001b[0m\u001b[2m197\u001b[0m\n",
       "\u001b[2;36m                    \u001b[0m         C:\\Users\\DELL\\soccerdata\\config\\league_dict.json.                       \u001b[2m              \u001b[0m\n"
      ]
     },
     "metadata": {},
     "output_type": "display_data"
    }
   ],
   "source": [
    "import soccerdata as sd\n",
    "import sys\n",
    "import os\n",
    "import logging\n",
    "\n",
    "# Add the parent directory to sys.path\n",
    "sys.path.append(os.path.abspath(\"..\"))  # Adjust as needed\n",
    "logging.getLogger().setLevel(logging.ERROR) # Removes unnecessary messages if needed"
   ]
  },
  {
   "cell_type": "code",
   "execution_count": 2,
   "id": "f48b7e62",
   "metadata": {},
   "outputs": [],
   "source": [
    "from football_analytics.utils.constants import BIG_FIVE_LEAGUES\n",
    "from football_analytics.utils.config import HOME_ADVANTAGE_CACHE_DIR\n",
    "\n",
    "TIME_PERIOD = 20 # How far back are we looking in years\n",
    "\n",
    "# Using Match History to get match specific data like if a team is home\n",
    "match_history = sd.MatchHistory(\n",
    "    leagues=BIG_FIVE_LEAGUES, # Premier League, Seria A, La Liga, Bunsaliga, Ligue 1 \n",
    "    seasons=range(2025 - TIME_PERIOD, 2025),\n",
    "    no_cache=False,\n",
    "    no_store=False,\n",
    "    data_dir=HOME_ADVANTAGE_CACHE_DIR\n",
    ")\n",
    "\n",
    "games = match_history.read_games()"
   ]
  },
  {
   "cell_type": "markdown",
   "id": "d007810d",
   "metadata": {},
   "source": [
    "Let's have a quick look at the head of the data to see if it was loaded in correctly"
   ]
  },
  {
   "cell_type": "code",
   "execution_count": 3,
   "id": "3ce9d74d",
   "metadata": {},
   "outputs": [
    {
     "data": {
      "text/html": [
       "<div>\n",
       "<style scoped>\n",
       "    .dataframe tbody tr th:only-of-type {\n",
       "        vertical-align: middle;\n",
       "    }\n",
       "\n",
       "    .dataframe tbody tr th {\n",
       "        vertical-align: top;\n",
       "    }\n",
       "\n",
       "    .dataframe thead th {\n",
       "        text-align: right;\n",
       "    }\n",
       "</style>\n",
       "<table border=\"1\" class=\"dataframe\">\n",
       "  <thead>\n",
       "    <tr style=\"text-align: right;\">\n",
       "      <th></th>\n",
       "      <th></th>\n",
       "      <th></th>\n",
       "      <th>date</th>\n",
       "      <th>home_team</th>\n",
       "      <th>away_team</th>\n",
       "      <th>FTHG</th>\n",
       "      <th>FTAG</th>\n",
       "      <th>FTR</th>\n",
       "      <th>HTHG</th>\n",
       "      <th>HTAG</th>\n",
       "      <th>HTR</th>\n",
       "      <th>referee</th>\n",
       "      <th>...</th>\n",
       "      <th>1XBCH</th>\n",
       "      <th>1XBCD</th>\n",
       "      <th>1XBCA</th>\n",
       "      <th>BFECH</th>\n",
       "      <th>BFECD</th>\n",
       "      <th>BFECA</th>\n",
       "      <th>BFEC&gt;2.5</th>\n",
       "      <th>BFEC&lt;2.5</th>\n",
       "      <th>BFECAHH</th>\n",
       "      <th>BFECAHA</th>\n",
       "    </tr>\n",
       "    <tr>\n",
       "      <th>league</th>\n",
       "      <th>season</th>\n",
       "      <th>game</th>\n",
       "      <th></th>\n",
       "      <th></th>\n",
       "      <th></th>\n",
       "      <th></th>\n",
       "      <th></th>\n",
       "      <th></th>\n",
       "      <th></th>\n",
       "      <th></th>\n",
       "      <th></th>\n",
       "      <th></th>\n",
       "      <th></th>\n",
       "      <th></th>\n",
       "      <th></th>\n",
       "      <th></th>\n",
       "      <th></th>\n",
       "      <th></th>\n",
       "      <th></th>\n",
       "      <th></th>\n",
       "      <th></th>\n",
       "      <th></th>\n",
       "      <th></th>\n",
       "    </tr>\n",
       "  </thead>\n",
       "  <tbody>\n",
       "    <tr>\n",
       "      <th rowspan=\"5\" valign=\"top\">ENG-Premier League</th>\n",
       "      <th rowspan=\"5\" valign=\"top\">0506</th>\n",
       "      <th>2005-08-13 Aston Villa-Bolton</th>\n",
       "      <td>2005-08-13 12:00:00</td>\n",
       "      <td>Aston Villa</td>\n",
       "      <td>Bolton</td>\n",
       "      <td>2.0</td>\n",
       "      <td>2.0</td>\n",
       "      <td>D</td>\n",
       "      <td>2.0</td>\n",
       "      <td>2.0</td>\n",
       "      <td>D</td>\n",
       "      <td>M Riley</td>\n",
       "      <td>...</td>\n",
       "      <td>NaN</td>\n",
       "      <td>NaN</td>\n",
       "      <td>NaN</td>\n",
       "      <td>NaN</td>\n",
       "      <td>NaN</td>\n",
       "      <td>NaN</td>\n",
       "      <td>NaN</td>\n",
       "      <td>NaN</td>\n",
       "      <td>NaN</td>\n",
       "      <td>NaN</td>\n",
       "    </tr>\n",
       "    <tr>\n",
       "      <th>2005-08-13 Everton-Man United</th>\n",
       "      <td>2005-08-13 12:00:00</td>\n",
       "      <td>Everton</td>\n",
       "      <td>Man United</td>\n",
       "      <td>0.0</td>\n",
       "      <td>2.0</td>\n",
       "      <td>A</td>\n",
       "      <td>0.0</td>\n",
       "      <td>1.0</td>\n",
       "      <td>A</td>\n",
       "      <td>G Poll</td>\n",
       "      <td>...</td>\n",
       "      <td>NaN</td>\n",
       "      <td>NaN</td>\n",
       "      <td>NaN</td>\n",
       "      <td>NaN</td>\n",
       "      <td>NaN</td>\n",
       "      <td>NaN</td>\n",
       "      <td>NaN</td>\n",
       "      <td>NaN</td>\n",
       "      <td>NaN</td>\n",
       "      <td>NaN</td>\n",
       "    </tr>\n",
       "    <tr>\n",
       "      <th>2005-08-13 Fulham-Birmingham</th>\n",
       "      <td>2005-08-13 12:00:00</td>\n",
       "      <td>Fulham</td>\n",
       "      <td>Birmingham</td>\n",
       "      <td>0.0</td>\n",
       "      <td>0.0</td>\n",
       "      <td>D</td>\n",
       "      <td>0.0</td>\n",
       "      <td>0.0</td>\n",
       "      <td>D</td>\n",
       "      <td>R Styles</td>\n",
       "      <td>...</td>\n",
       "      <td>NaN</td>\n",
       "      <td>NaN</td>\n",
       "      <td>NaN</td>\n",
       "      <td>NaN</td>\n",
       "      <td>NaN</td>\n",
       "      <td>NaN</td>\n",
       "      <td>NaN</td>\n",
       "      <td>NaN</td>\n",
       "      <td>NaN</td>\n",
       "      <td>NaN</td>\n",
       "    </tr>\n",
       "    <tr>\n",
       "      <th>2005-08-13 Man City-West Brom</th>\n",
       "      <td>2005-08-13 12:00:00</td>\n",
       "      <td>Man City</td>\n",
       "      <td>West Brom</td>\n",
       "      <td>0.0</td>\n",
       "      <td>0.0</td>\n",
       "      <td>D</td>\n",
       "      <td>0.0</td>\n",
       "      <td>0.0</td>\n",
       "      <td>D</td>\n",
       "      <td>C Foy</td>\n",
       "      <td>...</td>\n",
       "      <td>NaN</td>\n",
       "      <td>NaN</td>\n",
       "      <td>NaN</td>\n",
       "      <td>NaN</td>\n",
       "      <td>NaN</td>\n",
       "      <td>NaN</td>\n",
       "      <td>NaN</td>\n",
       "      <td>NaN</td>\n",
       "      <td>NaN</td>\n",
       "      <td>NaN</td>\n",
       "    </tr>\n",
       "    <tr>\n",
       "      <th>2005-08-13 Middlesbrough-Liverpool</th>\n",
       "      <td>2005-08-13 12:00:00</td>\n",
       "      <td>Middlesbrough</td>\n",
       "      <td>Liverpool</td>\n",
       "      <td>0.0</td>\n",
       "      <td>0.0</td>\n",
       "      <td>D</td>\n",
       "      <td>0.0</td>\n",
       "      <td>0.0</td>\n",
       "      <td>D</td>\n",
       "      <td>M Halsey</td>\n",
       "      <td>...</td>\n",
       "      <td>NaN</td>\n",
       "      <td>NaN</td>\n",
       "      <td>NaN</td>\n",
       "      <td>NaN</td>\n",
       "      <td>NaN</td>\n",
       "      <td>NaN</td>\n",
       "      <td>NaN</td>\n",
       "      <td>NaN</td>\n",
       "      <td>NaN</td>\n",
       "      <td>NaN</td>\n",
       "    </tr>\n",
       "  </tbody>\n",
       "</table>\n",
       "<p>5 rows × 163 columns</p>\n",
       "</div>"
      ],
      "text/plain": [
       "                                                                            date  \\\n",
       "league             season game                                                     \n",
       "ENG-Premier League 0506   2005-08-13 Aston Villa-Bolton      2005-08-13 12:00:00   \n",
       "                          2005-08-13 Everton-Man United      2005-08-13 12:00:00   \n",
       "                          2005-08-13 Fulham-Birmingham       2005-08-13 12:00:00   \n",
       "                          2005-08-13 Man City-West Brom      2005-08-13 12:00:00   \n",
       "                          2005-08-13 Middlesbrough-Liverpool 2005-08-13 12:00:00   \n",
       "\n",
       "                                                                  home_team  \\\n",
       "league             season game                                                \n",
       "ENG-Premier League 0506   2005-08-13 Aston Villa-Bolton         Aston Villa   \n",
       "                          2005-08-13 Everton-Man United             Everton   \n",
       "                          2005-08-13 Fulham-Birmingham               Fulham   \n",
       "                          2005-08-13 Man City-West Brom            Man City   \n",
       "                          2005-08-13 Middlesbrough-Liverpool  Middlesbrough   \n",
       "\n",
       "                                                               away_team  \\\n",
       "league             season game                                             \n",
       "ENG-Premier League 0506   2005-08-13 Aston Villa-Bolton           Bolton   \n",
       "                          2005-08-13 Everton-Man United       Man United   \n",
       "                          2005-08-13 Fulham-Birmingham        Birmingham   \n",
       "                          2005-08-13 Man City-West Brom        West Brom   \n",
       "                          2005-08-13 Middlesbrough-Liverpool   Liverpool   \n",
       "\n",
       "                                                              FTHG  FTAG FTR  \\\n",
       "league             season game                                                 \n",
       "ENG-Premier League 0506   2005-08-13 Aston Villa-Bolton        2.0   2.0   D   \n",
       "                          2005-08-13 Everton-Man United        0.0   2.0   A   \n",
       "                          2005-08-13 Fulham-Birmingham         0.0   0.0   D   \n",
       "                          2005-08-13 Man City-West Brom        0.0   0.0   D   \n",
       "                          2005-08-13 Middlesbrough-Liverpool   0.0   0.0   D   \n",
       "\n",
       "                                                              HTHG  HTAG HTR  \\\n",
       "league             season game                                                 \n",
       "ENG-Premier League 0506   2005-08-13 Aston Villa-Bolton        2.0   2.0   D   \n",
       "                          2005-08-13 Everton-Man United        0.0   1.0   A   \n",
       "                          2005-08-13 Fulham-Birmingham         0.0   0.0   D   \n",
       "                          2005-08-13 Man City-West Brom        0.0   0.0   D   \n",
       "                          2005-08-13 Middlesbrough-Liverpool   0.0   0.0   D   \n",
       "\n",
       "                                                               referee  ...  \\\n",
       "league             season game                                          ...   \n",
       "ENG-Premier League 0506   2005-08-13 Aston Villa-Bolton        M Riley  ...   \n",
       "                          2005-08-13 Everton-Man United         G Poll  ...   \n",
       "                          2005-08-13 Fulham-Birmingham        R Styles  ...   \n",
       "                          2005-08-13 Man City-West Brom          C Foy  ...   \n",
       "                          2005-08-13 Middlesbrough-Liverpool  M Halsey  ...   \n",
       "\n",
       "                                                              1XBCH  1XBCD  \\\n",
       "league             season game                                               \n",
       "ENG-Premier League 0506   2005-08-13 Aston Villa-Bolton         NaN    NaN   \n",
       "                          2005-08-13 Everton-Man United         NaN    NaN   \n",
       "                          2005-08-13 Fulham-Birmingham          NaN    NaN   \n",
       "                          2005-08-13 Man City-West Brom         NaN    NaN   \n",
       "                          2005-08-13 Middlesbrough-Liverpool    NaN    NaN   \n",
       "\n",
       "                                                              1XBCA  BFECH  \\\n",
       "league             season game                                               \n",
       "ENG-Premier League 0506   2005-08-13 Aston Villa-Bolton         NaN    NaN   \n",
       "                          2005-08-13 Everton-Man United         NaN    NaN   \n",
       "                          2005-08-13 Fulham-Birmingham          NaN    NaN   \n",
       "                          2005-08-13 Man City-West Brom         NaN    NaN   \n",
       "                          2005-08-13 Middlesbrough-Liverpool    NaN    NaN   \n",
       "\n",
       "                                                              BFECD  BFECA  \\\n",
       "league             season game                                               \n",
       "ENG-Premier League 0506   2005-08-13 Aston Villa-Bolton         NaN    NaN   \n",
       "                          2005-08-13 Everton-Man United         NaN    NaN   \n",
       "                          2005-08-13 Fulham-Birmingham          NaN    NaN   \n",
       "                          2005-08-13 Man City-West Brom         NaN    NaN   \n",
       "                          2005-08-13 Middlesbrough-Liverpool    NaN    NaN   \n",
       "\n",
       "                                                              BFEC>2.5  \\\n",
       "league             season game                                           \n",
       "ENG-Premier League 0506   2005-08-13 Aston Villa-Bolton            NaN   \n",
       "                          2005-08-13 Everton-Man United            NaN   \n",
       "                          2005-08-13 Fulham-Birmingham             NaN   \n",
       "                          2005-08-13 Man City-West Brom            NaN   \n",
       "                          2005-08-13 Middlesbrough-Liverpool       NaN   \n",
       "\n",
       "                                                              BFEC<2.5  \\\n",
       "league             season game                                           \n",
       "ENG-Premier League 0506   2005-08-13 Aston Villa-Bolton            NaN   \n",
       "                          2005-08-13 Everton-Man United            NaN   \n",
       "                          2005-08-13 Fulham-Birmingham             NaN   \n",
       "                          2005-08-13 Man City-West Brom            NaN   \n",
       "                          2005-08-13 Middlesbrough-Liverpool       NaN   \n",
       "\n",
       "                                                              BFECAHH  BFECAHA  \n",
       "league             season game                                                  \n",
       "ENG-Premier League 0506   2005-08-13 Aston Villa-Bolton           NaN      NaN  \n",
       "                          2005-08-13 Everton-Man United           NaN      NaN  \n",
       "                          2005-08-13 Fulham-Birmingham            NaN      NaN  \n",
       "                          2005-08-13 Man City-West Brom           NaN      NaN  \n",
       "                          2005-08-13 Middlesbrough-Liverpool      NaN      NaN  \n",
       "\n",
       "[5 rows x 163 columns]"
      ]
     },
     "execution_count": 3,
     "metadata": {},
     "output_type": "execute_result"
    }
   ],
   "source": [
    "games.head()"
   ]
  },
  {
   "cell_type": "markdown",
   "id": "2dd86e23",
   "metadata": {},
   "source": [
    "Since we only need the full time home and away goals for the analysis (FTHG & FTAG), we only need to check for any empty values in those columns to make sure the data is valid."
   ]
  },
  {
   "cell_type": "code",
   "execution_count": 4,
   "id": "5b77b4fe",
   "metadata": {},
   "outputs": [
    {
     "data": {
      "text/plain": [
       "np.False_"
      ]
     },
     "execution_count": 4,
     "metadata": {},
     "output_type": "execute_result"
    }
   ],
   "source": [
    "games['FTHG'].isna().any() or games['FTAG'].isna().any() # Is any FTHG or FTAG Nan?"
   ]
  },
  {
   "cell_type": "markdown",
   "id": "69fc698e",
   "metadata": {},
   "source": [
    "All the data is valid and ready to be used, we can move on to analyzing the data"
   ]
  },
  {
   "cell_type": "markdown",
   "id": "33da77e8",
   "metadata": {},
   "source": [
    "## **Step 2:** Determining if there is a Home Advantage\n",
    "In this step, we will analyze the match data to determine if there is a home advantage. This involves a using two sample t-test to evaluate whether the probability of winning home games is significantly greater than the proportion winning away games for a team. The clean data from the previous step will be used for this analysis. Let's put everything in mathematical terms.\n",
    "\n",
    "We define the random variables $X$ and $Y$ as:\n",
    "$$\n",
    "\\begin{aligned}\n",
    "X &= \n",
    "\\begin{cases}\n",
    "1 & \\text{a team wins at home} \\\\\n",
    "0 & \\text{a team does not win at home (loss or draw)}\n",
    "\\end{cases} \\\\\n",
    "Y &= \n",
    "\\begin{cases}\n",
    "1 & \\text{a team wins away} \\\\\n",
    "0 & \\text{a team does not win away (loss or draw)}\n",
    "\\end{cases}\n",
    "\\end{aligned}\n",
    "$$\n",
    "We model $X \\sim \\text{Bernoulli}(p_h)$ and $Y \\sim \\text{Bernoulli}(p_a)$ where $p_h$ and $p_a$ are the probabilities of winning at home and away, respectively.\n",
    "\n",
    "Before proceeding, we make the following assumptions:\n",
    "\n",
    "1. **Independence of Samples:** The outcomes of home games (wins or losses) and away games (wins or losses) are independent. This means the result of one game (home or away) does not influence the result of another game.\n",
    "In this context of football, while factors like momentum and team morale may have some effect, they are likely insignificant and can be reasonably ignored for the purposes of this analysis.  \n",
    "\n",
    "2. **Large Enough Sample Size:** For large sample sizes, the Central Limit Theorem ensures that the sampling distribution of the sample mean approaches a normal distribution, even if the original data are not normally distributed. For large sample sizes, we assume that the sample proportion of home and away games won, $\\hat{p_h}$ and $\\hat{p_A}$ approximately follow:\n",
    "$$\\hat{p_h} \\sim \\mathcal{N}(p_h, \\: p_h(1 - p_h))$$\n",
    "$$\\hat{p_a} \\sim \\mathcal{N}(p_a, \\: p_a(1 - p_a))$$\n",
    "\n",
    "### Two Sample Z-Test for Proportions\n",
    "\n",
    "Our null and alternate hypotheses are:\n",
    "$$H_0: p_h = p_a$$\n",
    "$$H_1: p_h > p_a$$\n",
    "\n",
    "Here we use a one-tailed test ($p_h > p_a$) since we are asking if football teams win more at home than away\n",
    "\n",
    "Our test statistic is given by:\n",
    "$$z = \\frac{\\hat{p_h} - \\hat{p_a}}{\\sqrt{p^*(1 - p^*)(\\frac{1}{n_h}+\\frac{1}{n_a})}}$$\n",
    "\n",
    "Where:\n",
    "- $p^*$ is the pooled sample proportion of home and away games won $$p = \\frac{w_h + w_a}{n_h + n_a}$$\n",
    "- $n_h$ and $n_a$ are the number of home and away games in the dataset\n",
    "- $w_h$ and $w_a$ are the number of home and away games won\n",
    "$$ w_h = \\sum_{i = 1}^{n_h}{X_i} $$\n",
    "$$ w_a = \\sum_{i = 1}^{n_a}{Y_i} $$\n",
    "- $\\hat{p_h}$ and $\\hat{p_a}$ are the sample proportions of home and away games won respectively \n",
    "$$ \\hat{p_h} = \\frac{w_h}{n_h} $$\n",
    "$$ \\hat{p_a} = \\frac{w_a}{n_a} $$\n",
    "\n",
    "We can choose a significance level $\\alpha = 0.05$, giving us a rejection region of $z \\geq 1.96$\n",
    "\n",
    "Let's now calculate z using the data. We'll first calculate the all the other variables used in the calculation first"
   ]
  },
  {
   "cell_type": "code",
   "execution_count": 5,
   "id": "8c6aa92e",
   "metadata": {},
   "outputs": [
    {
     "name": "stdout",
     "output_type": "stream",
     "text": [
      "Number of games used: 36086\n"
     ]
    }
   ],
   "source": [
    "n_h = n_a = len(games)\n",
    "print(f\"Number of games used: {n_h}\")"
   ]
  },
  {
   "cell_type": "code",
   "execution_count": 6,
   "id": "45db067d",
   "metadata": {},
   "outputs": [
    {
     "name": "stdout",
     "output_type": "stream",
     "text": [
      "Sample proportion of home games won: 0.45103364185556727\n",
      "Sample proportion of away games won: 0.2927173973286039\n"
     ]
    }
   ],
   "source": [
    "w_h = (games[\"FTHG\"] > games[\"FTAG\"]).sum()\n",
    "w_a = (games[\"FTAG\"] > games[\"FTHG\"]).sum()\n",
    "\n",
    "sample_p_h = w_h / n_h\n",
    "sample_p_a = w_a / n_a\n",
    "print(f\"Sample proportion of home games won: {sample_p_h}\")\n",
    "print(f\"Sample proportion of away games won: {sample_p_a}\")"
   ]
  },
  {
   "cell_type": "code",
   "execution_count": 7,
   "id": "4e89d72a",
   "metadata": {},
   "outputs": [
    {
     "name": "stdout",
     "output_type": "stream",
     "text": [
      "Pooled proportion of games won: 0.3718755195920856\n"
     ]
    }
   ],
   "source": [
    "pooled_p = (w_h + w_a) / (n_h + n_a)\n",
    "print(f\"Pooled proportion of games won: {pooled_p}\")"
   ]
  },
  {
   "cell_type": "code",
   "execution_count": 8,
   "id": "1c2dc898",
   "metadata": {},
   "outputs": [
    {
     "name": "stdout",
     "output_type": "stream",
     "text": [
      "Test statistic z: 44.000559507366745\n"
     ]
    }
   ],
   "source": [
    "from math import sqrt\n",
    "z = (sample_p_h - sample_p_a) / sqrt(pooled_p * (1 - pooled_p) * (1/n_h + 1/n_a))\n",
    "print(f\"Test statistic z: {z}\")"
   ]
  },
  {
   "cell_type": "markdown",
   "id": "fd38cc96",
   "metadata": {},
   "source": [
    "Our value z is the rejection region $z \\geq 1.96$ so there is enough evidence to reject $H_0$ ($p_h = p_a$). Let's calculate our p-value (the probability of the data given $H_0$)."
   ]
  },
  {
   "cell_type": "code",
   "execution_count": 9,
   "id": "d6de2e7d",
   "metadata": {},
   "outputs": [
    {
     "name": "stdout",
     "output_type": "stream",
     "text": [
      "0.0\n"
     ]
    }
   ],
   "source": [
    "from scipy.stats import norm\n",
    "\n",
    "p_val = 1 - norm.cdf(z)\n",
    "print(p_val)"
   ]
  },
  {
   "cell_type": "markdown",
   "id": "93f5e6b1",
   "metadata": {},
   "source": [
    "If the probabilities were equal then it is nearly impossible to generate the data so we can safely assume there is a home team advantage  "
   ]
  }
 ],
 "metadata": {
  "kernelspec": {
   "display_name": ".venv",
   "language": "python",
   "name": "python3"
  },
  "language_info": {
   "codemirror_mode": {
    "name": "ipython",
    "version": 3
   },
   "file_extension": ".py",
   "mimetype": "text/x-python",
   "name": "python",
   "nbconvert_exporter": "python",
   "pygments_lexer": "ipython3",
   "version": "3.11.0"
  }
 },
 "nbformat": 4,
 "nbformat_minor": 5
}
