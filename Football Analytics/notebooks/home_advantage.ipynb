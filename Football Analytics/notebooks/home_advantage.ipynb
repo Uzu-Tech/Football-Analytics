{
 "cells": [
  {
   "cell_type": "markdown",
   "id": "5a7f83b5",
   "metadata": {},
   "source": [
    "# Exploring the Impact of Home Team Advantage in Football"
   ]
  },
  {
   "cell_type": "markdown",
   "id": "4dcf2dc3",
   "metadata": {},
   "source": [
    "## Methodology\n",
    "In this analysis, we will explore the impact of home team advantage in football by:\n",
    "1. Collecting and preprocessing match data, including home and away team performance.\n",
    "2. Calculating maximum likelihood estimate for probability of winning at home and probability of winning away\n",
    "3. Run a hypothesis test to see if the proportion of games won at home or away is different "
   ]
  },
  {
   "cell_type": "markdown",
   "id": "fc078477",
   "metadata": {},
   "source": [
    "### **Step 1:** Collecting and Preprocessing Match Data\n",
    "In this step, we will gather match data, including information about home and away team performances. The data will be cleaned and prepared for analysis by handling missing values, standardizing formats, and ensuring consistency. First let's load the modules and data we need"
   ]
  },
  {
   "cell_type": "code",
   "execution_count": 3,
   "id": "e5bda3a9",
   "metadata": {},
   "outputs": [],
   "source": [
    "import soccerdata as sd\n",
    "from pathlib import Path\n",
    "import sys\n",
    "import os\n",
    "import logging\n",
    "\n",
    "# Add the parent directory to sys.path\n",
    "sys.path.append(os.path.abspath(\"..\"))  # Adjust as needed\n",
    "from utils.constants import BIG_FIVE_LEAGUES\n",
    "\n",
    "logging.getLogger().setLevel(logging.INFO)"
   ]
  },
  {
   "cell_type": "code",
   "execution_count": null,
   "id": "f48b7e62",
   "metadata": {},
   "outputs": [
    {
     "data": {
      "text/html": [
       "<pre style=\"white-space:pre;overflow-x:auto;line-height:normal;font-family:Menlo,'DejaVu Sans Mono',consolas,'Courier New',monospace\"><span style=\"color: #7fbfbf; text-decoration-color: #7fbfbf\">[05/01/25 16:45:46] </span><span style=\"color: #000080; text-decoration-color: #000080\">INFO    </span> Saving cached data to ..\\data\\home advantage cache                      <span style=\"color: #7f7f7f; text-decoration-color: #7f7f7f\">_common.py:263</span>\n",
       "</pre>\n"
      ],
      "text/plain": [
       "\u001b[2;36m[05/01/25 16:45:46]\u001b[0m\u001b[2;36m \u001b[0m\u001b[34mINFO    \u001b[0m Saving cached data to ..\\data\\home advantage cache                      \u001b[2m_common.py\u001b[0m\u001b[2m:\u001b[0m\u001b[2m263\u001b[0m\n"
      ]
     },
     "metadata": {},
     "output_type": "display_data"
    },
    {
     "data": {
      "text/html": [
       "<pre style=\"white-space:pre;overflow-x:auto;line-height:normal;font-family:Menlo,'DejaVu Sans Mono',consolas,'Courier New',monospace\"><span style=\"color: #7fbfbf; text-decoration-color: #7fbfbf\">                    </span><span style=\"color: #808000; text-decoration-color: #808000\">WARNING </span> c:\\Users\\DELL\\Github                                                   <a href=\"file://C:\\Users\\DELL\\AppData\\Local\\Programs\\Python\\Python311\\Lib\\warnings.py\" target=\"_blank\"><span style=\"color: #7f7f7f; text-decoration-color: #7f7f7f\">warnings.py</span></a><span style=\"color: #7f7f7f; text-decoration-color: #7f7f7f\">:</span><a href=\"file://C:\\Users\\DELL\\AppData\\Local\\Programs\\Python\\Python311\\Lib\\warnings.py#109\" target=\"_blank\"><span style=\"color: #7f7f7f; text-decoration-color: #7f7f7f\">109</span></a>\n",
       "<span style=\"color: #7fbfbf; text-decoration-color: #7fbfbf\">                    </span>         Repos\\Football-Analytics\\.venv\\Lib\\site-packages\\soccerdata\\_common.py <span style=\"color: #7f7f7f; text-decoration-color: #7f7f7f\">               </span>\n",
       "<span style=\"color: #7fbfbf; text-decoration-color: #7fbfbf\">                    </span>         :<span style=\"color: #008080; text-decoration-color: #008080; font-weight: bold\">145</span>: UserWarning: Season id <span style=\"color: #008000; text-decoration-color: #008000\">\"2021\"</span> is ambiguous: interpreting as      <span style=\"color: #7f7f7f; text-decoration-color: #7f7f7f\">               </span>\n",
       "<span style=\"color: #7fbfbf; text-decoration-color: #7fbfbf\">                    </span>         <span style=\"color: #008000; text-decoration-color: #008000\">\"20-21\"</span>                                                                <span style=\"color: #7f7f7f; text-decoration-color: #7f7f7f\">               </span>\n",
       "<span style=\"color: #7fbfbf; text-decoration-color: #7fbfbf\">                    </span>           <span style=\"color: #800080; text-decoration-color: #800080; font-weight: bold\">warnings.warn</span><span style=\"font-weight: bold\">(</span>msg, <span style=\"color: #808000; text-decoration-color: #808000\">stacklevel</span>=<span style=\"color: #008080; text-decoration-color: #008080; font-weight: bold\">1</span><span style=\"font-weight: bold\">)</span>                                     <span style=\"color: #7f7f7f; text-decoration-color: #7f7f7f\">               </span>\n",
       "<span style=\"color: #7fbfbf; text-decoration-color: #7fbfbf\">                    </span>                                                                                <span style=\"color: #7f7f7f; text-decoration-color: #7f7f7f\">               </span>\n",
       "</pre>\n"
      ],
      "text/plain": [
       "\u001b[2;36m                   \u001b[0m\u001b[2;36m \u001b[0m\u001b[33mWARNING \u001b[0m c:\\Users\\DELL\\Github                                                   \u001b]8;id=378527;file://C:\\Users\\DELL\\AppData\\Local\\Programs\\Python\\Python311\\Lib\\warnings.py\u001b\\\u001b[2mwarnings.py\u001b[0m\u001b]8;;\u001b\\\u001b[2m:\u001b[0m\u001b]8;id=953036;file://C:\\Users\\DELL\\AppData\\Local\\Programs\\Python\\Python311\\Lib\\warnings.py#109\u001b\\\u001b[2m109\u001b[0m\u001b]8;;\u001b\\\n",
       "\u001b[2;36m                    \u001b[0m         Repos\\Football-Analytics\\.venv\\Lib\\site-packages\\soccerdata\\_common.py \u001b[2m               \u001b[0m\n",
       "\u001b[2;36m                    \u001b[0m         :\u001b[1;36m145\u001b[0m: UserWarning: Season id \u001b[32m\"2021\"\u001b[0m is ambiguous: interpreting as      \u001b[2m               \u001b[0m\n",
       "\u001b[2;36m                    \u001b[0m         \u001b[32m\"20-21\"\u001b[0m                                                                \u001b[2m               \u001b[0m\n",
       "\u001b[2;36m                    \u001b[0m           \u001b[1;35mwarnings.warn\u001b[0m\u001b[1m(\u001b[0mmsg, \u001b[33mstacklevel\u001b[0m=\u001b[1;36m1\u001b[0m\u001b[1m)\u001b[0m                                     \u001b[2m               \u001b[0m\n",
       "\u001b[2;36m                    \u001b[0m                                                                                \u001b[2m               \u001b[0m\n"
      ]
     },
     "metadata": {},
     "output_type": "display_data"
    },
    {
     "data": {
      "text/html": [
       "<pre style=\"white-space:pre;overflow-x:auto;line-height:normal;font-family:Menlo,'DejaVu Sans Mono',consolas,'Courier New',monospace\"><span style=\"color: #7fbfbf; text-decoration-color: #7fbfbf\">                    </span><span style=\"color: #000080; text-decoration-color: #000080\">INFO    </span> Parsing <span style=\"color: #808000; text-decoration-color: #808000\">league</span>=<span style=\"color: #800080; text-decoration-color: #800080\">E0</span> <span style=\"color: #808000; text-decoration-color: #808000\">season</span>=<span style=\"color: #008080; text-decoration-color: #008080; font-weight: bold\">0506</span>                                      <span style=\"color: #7f7f7f; text-decoration-color: #7f7f7f\">match_history.py:17</span>\n",
       "</pre>\n"
      ],
      "text/plain": [
       "\u001b[2;36m                   \u001b[0m\u001b[2;36m \u001b[0m\u001b[34mINFO    \u001b[0m Parsing \u001b[33mleague\u001b[0m=\u001b[35mE0\u001b[0m \u001b[33mseason\u001b[0m=\u001b[1;36m0506\u001b[0m                                      \u001b[2mmatch_history.py\u001b[0m\u001b[2m:\u001b[0m\u001b[2m17\u001b[0m\n"
      ]
     },
     "metadata": {},
     "output_type": "display_data"
    },
    {
     "data": {
      "text/html": [
       "<pre style=\"white-space:pre;overflow-x:auto;line-height:normal;font-family:Menlo,'DejaVu Sans Mono',consolas,'Courier New',monospace\"><span style=\"color: #7fbfbf; text-decoration-color: #7fbfbf\">                    </span><span style=\"color: #000080; text-decoration-color: #000080\">INFO    </span> Parsing <span style=\"color: #808000; text-decoration-color: #808000\">league</span>=<span style=\"color: #800080; text-decoration-color: #800080\">E0</span> <span style=\"color: #808000; text-decoration-color: #808000\">season</span>=<span style=\"color: #008080; text-decoration-color: #008080; font-weight: bold\">0607</span>                                      <span style=\"color: #7f7f7f; text-decoration-color: #7f7f7f\">match_history.py:17</span>\n",
       "</pre>\n"
      ],
      "text/plain": [
       "\u001b[2;36m                   \u001b[0m\u001b[2;36m \u001b[0m\u001b[34mINFO    \u001b[0m Parsing \u001b[33mleague\u001b[0m=\u001b[35mE0\u001b[0m \u001b[33mseason\u001b[0m=\u001b[1;36m0607\u001b[0m                                      \u001b[2mmatch_history.py\u001b[0m\u001b[2m:\u001b[0m\u001b[2m17\u001b[0m\n"
      ]
     },
     "metadata": {},
     "output_type": "display_data"
    },
    {
     "data": {
      "text/html": [
       "<pre style=\"white-space:pre;overflow-x:auto;line-height:normal;font-family:Menlo,'DejaVu Sans Mono',consolas,'Courier New',monospace\"><span style=\"color: #7fbfbf; text-decoration-color: #7fbfbf\">                    </span><span style=\"color: #000080; text-decoration-color: #000080\">INFO    </span> Parsing <span style=\"color: #808000; text-decoration-color: #808000\">league</span>=<span style=\"color: #800080; text-decoration-color: #800080\">E0</span> <span style=\"color: #808000; text-decoration-color: #808000\">season</span>=<span style=\"color: #008080; text-decoration-color: #008080; font-weight: bold\">0708</span>                                      <span style=\"color: #7f7f7f; text-decoration-color: #7f7f7f\">match_history.py:17</span>\n",
       "</pre>\n"
      ],
      "text/plain": [
       "\u001b[2;36m                   \u001b[0m\u001b[2;36m \u001b[0m\u001b[34mINFO    \u001b[0m Parsing \u001b[33mleague\u001b[0m=\u001b[35mE0\u001b[0m \u001b[33mseason\u001b[0m=\u001b[1;36m0708\u001b[0m                                      \u001b[2mmatch_history.py\u001b[0m\u001b[2m:\u001b[0m\u001b[2m17\u001b[0m\n"
      ]
     },
     "metadata": {},
     "output_type": "display_data"
    },
    {
     "data": {
      "text/html": [
       "<pre style=\"white-space:pre;overflow-x:auto;line-height:normal;font-family:Menlo,'DejaVu Sans Mono',consolas,'Courier New',monospace\"><span style=\"color: #7fbfbf; text-decoration-color: #7fbfbf\">                    </span><span style=\"color: #000080; text-decoration-color: #000080\">INFO    </span> Parsing <span style=\"color: #808000; text-decoration-color: #808000\">league</span>=<span style=\"color: #800080; text-decoration-color: #800080\">E0</span> <span style=\"color: #808000; text-decoration-color: #808000\">season</span>=<span style=\"color: #008080; text-decoration-color: #008080; font-weight: bold\">0809</span>                                      <span style=\"color: #7f7f7f; text-decoration-color: #7f7f7f\">match_history.py:17</span>\n",
       "</pre>\n"
      ],
      "text/plain": [
       "\u001b[2;36m                   \u001b[0m\u001b[2;36m \u001b[0m\u001b[34mINFO    \u001b[0m Parsing \u001b[33mleague\u001b[0m=\u001b[35mE0\u001b[0m \u001b[33mseason\u001b[0m=\u001b[1;36m0809\u001b[0m                                      \u001b[2mmatch_history.py\u001b[0m\u001b[2m:\u001b[0m\u001b[2m17\u001b[0m\n"
      ]
     },
     "metadata": {},
     "output_type": "display_data"
    },
    {
     "data": {
      "text/html": [
       "<pre style=\"white-space:pre;overflow-x:auto;line-height:normal;font-family:Menlo,'DejaVu Sans Mono',consolas,'Courier New',monospace\"><span style=\"color: #7fbfbf; text-decoration-color: #7fbfbf\">                    </span><span style=\"color: #000080; text-decoration-color: #000080\">INFO    </span> Parsing <span style=\"color: #808000; text-decoration-color: #808000\">league</span>=<span style=\"color: #800080; text-decoration-color: #800080\">E0</span> <span style=\"color: #808000; text-decoration-color: #808000\">season</span>=<span style=\"color: #008080; text-decoration-color: #008080; font-weight: bold\">0910</span>                                      <span style=\"color: #7f7f7f; text-decoration-color: #7f7f7f\">match_history.py:17</span>\n",
       "</pre>\n"
      ],
      "text/plain": [
       "\u001b[2;36m                   \u001b[0m\u001b[2;36m \u001b[0m\u001b[34mINFO    \u001b[0m Parsing \u001b[33mleague\u001b[0m=\u001b[35mE0\u001b[0m \u001b[33mseason\u001b[0m=\u001b[1;36m0910\u001b[0m                                      \u001b[2mmatch_history.py\u001b[0m\u001b[2m:\u001b[0m\u001b[2m17\u001b[0m\n"
      ]
     },
     "metadata": {},
     "output_type": "display_data"
    },
    {
     "data": {
      "text/html": [
       "<pre style=\"white-space:pre;overflow-x:auto;line-height:normal;font-family:Menlo,'DejaVu Sans Mono',consolas,'Courier New',monospace\"><span style=\"color: #7fbfbf; text-decoration-color: #7fbfbf\">                    </span><span style=\"color: #000080; text-decoration-color: #000080\">INFO    </span> Parsing <span style=\"color: #808000; text-decoration-color: #808000\">league</span>=<span style=\"color: #800080; text-decoration-color: #800080\">E0</span> <span style=\"color: #808000; text-decoration-color: #808000\">season</span>=<span style=\"color: #008080; text-decoration-color: #008080; font-weight: bold\">1011</span>                                      <span style=\"color: #7f7f7f; text-decoration-color: #7f7f7f\">match_history.py:17</span>\n",
       "</pre>\n"
      ],
      "text/plain": [
       "\u001b[2;36m                   \u001b[0m\u001b[2;36m \u001b[0m\u001b[34mINFO    \u001b[0m Parsing \u001b[33mleague\u001b[0m=\u001b[35mE0\u001b[0m \u001b[33mseason\u001b[0m=\u001b[1;36m1011\u001b[0m                                      \u001b[2mmatch_history.py\u001b[0m\u001b[2m:\u001b[0m\u001b[2m17\u001b[0m\n"
      ]
     },
     "metadata": {},
     "output_type": "display_data"
    },
    {
     "data": {
      "text/html": [
       "<pre style=\"white-space:pre;overflow-x:auto;line-height:normal;font-family:Menlo,'DejaVu Sans Mono',consolas,'Courier New',monospace\"><span style=\"color: #7fbfbf; text-decoration-color: #7fbfbf\">                    </span><span style=\"color: #000080; text-decoration-color: #000080\">INFO    </span> Parsing <span style=\"color: #808000; text-decoration-color: #808000\">league</span>=<span style=\"color: #800080; text-decoration-color: #800080\">E0</span> <span style=\"color: #808000; text-decoration-color: #808000\">season</span>=<span style=\"color: #008080; text-decoration-color: #008080; font-weight: bold\">1112</span>                                      <span style=\"color: #7f7f7f; text-decoration-color: #7f7f7f\">match_history.py:17</span>\n",
       "</pre>\n"
      ],
      "text/plain": [
       "\u001b[2;36m                   \u001b[0m\u001b[2;36m \u001b[0m\u001b[34mINFO    \u001b[0m Parsing \u001b[33mleague\u001b[0m=\u001b[35mE0\u001b[0m \u001b[33mseason\u001b[0m=\u001b[1;36m1112\u001b[0m                                      \u001b[2mmatch_history.py\u001b[0m\u001b[2m:\u001b[0m\u001b[2m17\u001b[0m\n"
      ]
     },
     "metadata": {},
     "output_type": "display_data"
    },
    {
     "data": {
      "text/html": [
       "<pre style=\"white-space:pre;overflow-x:auto;line-height:normal;font-family:Menlo,'DejaVu Sans Mono',consolas,'Courier New',monospace\"><span style=\"color: #7fbfbf; text-decoration-color: #7fbfbf\">                    </span><span style=\"color: #000080; text-decoration-color: #000080\">INFO    </span> Parsing <span style=\"color: #808000; text-decoration-color: #808000\">league</span>=<span style=\"color: #800080; text-decoration-color: #800080\">E0</span> <span style=\"color: #808000; text-decoration-color: #808000\">season</span>=<span style=\"color: #008080; text-decoration-color: #008080; font-weight: bold\">1213</span>                                      <span style=\"color: #7f7f7f; text-decoration-color: #7f7f7f\">match_history.py:17</span>\n",
       "</pre>\n"
      ],
      "text/plain": [
       "\u001b[2;36m                   \u001b[0m\u001b[2;36m \u001b[0m\u001b[34mINFO    \u001b[0m Parsing \u001b[33mleague\u001b[0m=\u001b[35mE0\u001b[0m \u001b[33mseason\u001b[0m=\u001b[1;36m1213\u001b[0m                                      \u001b[2mmatch_history.py\u001b[0m\u001b[2m:\u001b[0m\u001b[2m17\u001b[0m\n"
      ]
     },
     "metadata": {},
     "output_type": "display_data"
    },
    {
     "data": {
      "text/html": [
       "<pre style=\"white-space:pre;overflow-x:auto;line-height:normal;font-family:Menlo,'DejaVu Sans Mono',consolas,'Courier New',monospace\"><span style=\"color: #7fbfbf; text-decoration-color: #7fbfbf\">                    </span><span style=\"color: #000080; text-decoration-color: #000080\">INFO    </span> Parsing <span style=\"color: #808000; text-decoration-color: #808000\">league</span>=<span style=\"color: #800080; text-decoration-color: #800080\">E0</span> <span style=\"color: #808000; text-decoration-color: #808000\">season</span>=<span style=\"color: #008080; text-decoration-color: #008080; font-weight: bold\">1314</span>                                      <span style=\"color: #7f7f7f; text-decoration-color: #7f7f7f\">match_history.py:17</span>\n",
       "</pre>\n"
      ],
      "text/plain": [
       "\u001b[2;36m                   \u001b[0m\u001b[2;36m \u001b[0m\u001b[34mINFO    \u001b[0m Parsing \u001b[33mleague\u001b[0m=\u001b[35mE0\u001b[0m \u001b[33mseason\u001b[0m=\u001b[1;36m1314\u001b[0m                                      \u001b[2mmatch_history.py\u001b[0m\u001b[2m:\u001b[0m\u001b[2m17\u001b[0m\n"
      ]
     },
     "metadata": {},
     "output_type": "display_data"
    },
    {
     "data": {
      "text/html": [
       "<pre style=\"white-space:pre;overflow-x:auto;line-height:normal;font-family:Menlo,'DejaVu Sans Mono',consolas,'Courier New',monospace\"><span style=\"color: #7fbfbf; text-decoration-color: #7fbfbf\">                    </span><span style=\"color: #000080; text-decoration-color: #000080\">INFO    </span> Parsing <span style=\"color: #808000; text-decoration-color: #808000\">league</span>=<span style=\"color: #800080; text-decoration-color: #800080\">E0</span> <span style=\"color: #808000; text-decoration-color: #808000\">season</span>=<span style=\"color: #008080; text-decoration-color: #008080; font-weight: bold\">1415</span>                                      <span style=\"color: #7f7f7f; text-decoration-color: #7f7f7f\">match_history.py:17</span>\n",
       "</pre>\n"
      ],
      "text/plain": [
       "\u001b[2;36m                   \u001b[0m\u001b[2;36m \u001b[0m\u001b[34mINFO    \u001b[0m Parsing \u001b[33mleague\u001b[0m=\u001b[35mE0\u001b[0m \u001b[33mseason\u001b[0m=\u001b[1;36m1415\u001b[0m                                      \u001b[2mmatch_history.py\u001b[0m\u001b[2m:\u001b[0m\u001b[2m17\u001b[0m\n"
      ]
     },
     "metadata": {},
     "output_type": "display_data"
    },
    {
     "data": {
      "text/html": [
       "<pre style=\"white-space:pre;overflow-x:auto;line-height:normal;font-family:Menlo,'DejaVu Sans Mono',consolas,'Courier New',monospace\"><span style=\"color: #7fbfbf; text-decoration-color: #7fbfbf\">                    </span><span style=\"color: #000080; text-decoration-color: #000080\">INFO    </span> Parsing <span style=\"color: #808000; text-decoration-color: #808000\">league</span>=<span style=\"color: #800080; text-decoration-color: #800080\">E0</span> <span style=\"color: #808000; text-decoration-color: #808000\">season</span>=<span style=\"color: #008080; text-decoration-color: #008080; font-weight: bold\">1516</span>                                      <span style=\"color: #7f7f7f; text-decoration-color: #7f7f7f\">match_history.py:17</span>\n",
       "</pre>\n"
      ],
      "text/plain": [
       "\u001b[2;36m                   \u001b[0m\u001b[2;36m \u001b[0m\u001b[34mINFO    \u001b[0m Parsing \u001b[33mleague\u001b[0m=\u001b[35mE0\u001b[0m \u001b[33mseason\u001b[0m=\u001b[1;36m1516\u001b[0m                                      \u001b[2mmatch_history.py\u001b[0m\u001b[2m:\u001b[0m\u001b[2m17\u001b[0m\n"
      ]
     },
     "metadata": {},
     "output_type": "display_data"
    },
    {
     "data": {
      "text/html": [
       "<pre style=\"white-space:pre;overflow-x:auto;line-height:normal;font-family:Menlo,'DejaVu Sans Mono',consolas,'Courier New',monospace\"><span style=\"color: #7fbfbf; text-decoration-color: #7fbfbf\">                    </span><span style=\"color: #000080; text-decoration-color: #000080\">INFO    </span> Parsing <span style=\"color: #808000; text-decoration-color: #808000\">league</span>=<span style=\"color: #800080; text-decoration-color: #800080\">E0</span> <span style=\"color: #808000; text-decoration-color: #808000\">season</span>=<span style=\"color: #008080; text-decoration-color: #008080; font-weight: bold\">1617</span>                                      <span style=\"color: #7f7f7f; text-decoration-color: #7f7f7f\">match_history.py:17</span>\n",
       "</pre>\n"
      ],
      "text/plain": [
       "\u001b[2;36m                   \u001b[0m\u001b[2;36m \u001b[0m\u001b[34mINFO    \u001b[0m Parsing \u001b[33mleague\u001b[0m=\u001b[35mE0\u001b[0m \u001b[33mseason\u001b[0m=\u001b[1;36m1617\u001b[0m                                      \u001b[2mmatch_history.py\u001b[0m\u001b[2m:\u001b[0m\u001b[2m17\u001b[0m\n"
      ]
     },
     "metadata": {},
     "output_type": "display_data"
    },
    {
     "data": {
      "text/html": [
       "<pre style=\"white-space:pre;overflow-x:auto;line-height:normal;font-family:Menlo,'DejaVu Sans Mono',consolas,'Courier New',monospace\"><span style=\"color: #7fbfbf; text-decoration-color: #7fbfbf\">                    </span><span style=\"color: #000080; text-decoration-color: #000080\">INFO    </span> Parsing <span style=\"color: #808000; text-decoration-color: #808000\">league</span>=<span style=\"color: #800080; text-decoration-color: #800080\">E0</span> <span style=\"color: #808000; text-decoration-color: #808000\">season</span>=<span style=\"color: #008080; text-decoration-color: #008080; font-weight: bold\">1718</span>                                      <span style=\"color: #7f7f7f; text-decoration-color: #7f7f7f\">match_history.py:17</span>\n",
       "</pre>\n"
      ],
      "text/plain": [
       "\u001b[2;36m                   \u001b[0m\u001b[2;36m \u001b[0m\u001b[34mINFO    \u001b[0m Parsing \u001b[33mleague\u001b[0m=\u001b[35mE0\u001b[0m \u001b[33mseason\u001b[0m=\u001b[1;36m1718\u001b[0m                                      \u001b[2mmatch_history.py\u001b[0m\u001b[2m:\u001b[0m\u001b[2m17\u001b[0m\n"
      ]
     },
     "metadata": {},
     "output_type": "display_data"
    },
    {
     "data": {
      "text/html": [
       "<pre style=\"white-space:pre;overflow-x:auto;line-height:normal;font-family:Menlo,'DejaVu Sans Mono',consolas,'Courier New',monospace\"><span style=\"color: #7fbfbf; text-decoration-color: #7fbfbf\">                    </span><span style=\"color: #000080; text-decoration-color: #000080\">INFO    </span> Parsing <span style=\"color: #808000; text-decoration-color: #808000\">league</span>=<span style=\"color: #800080; text-decoration-color: #800080\">E0</span> <span style=\"color: #808000; text-decoration-color: #808000\">season</span>=<span style=\"color: #008080; text-decoration-color: #008080; font-weight: bold\">1819</span>                                      <span style=\"color: #7f7f7f; text-decoration-color: #7f7f7f\">match_history.py:17</span>\n",
       "</pre>\n"
      ],
      "text/plain": [
       "\u001b[2;36m                   \u001b[0m\u001b[2;36m \u001b[0m\u001b[34mINFO    \u001b[0m Parsing \u001b[33mleague\u001b[0m=\u001b[35mE0\u001b[0m \u001b[33mseason\u001b[0m=\u001b[1;36m1819\u001b[0m                                      \u001b[2mmatch_history.py\u001b[0m\u001b[2m:\u001b[0m\u001b[2m17\u001b[0m\n"
      ]
     },
     "metadata": {},
     "output_type": "display_data"
    },
    {
     "data": {
      "text/html": [
       "<pre style=\"white-space:pre;overflow-x:auto;line-height:normal;font-family:Menlo,'DejaVu Sans Mono',consolas,'Courier New',monospace\"><span style=\"color: #7fbfbf; text-decoration-color: #7fbfbf\">                    </span><span style=\"color: #000080; text-decoration-color: #000080\">INFO    </span> Parsing <span style=\"color: #808000; text-decoration-color: #808000\">league</span>=<span style=\"color: #800080; text-decoration-color: #800080\">E0</span> <span style=\"color: #808000; text-decoration-color: #808000\">season</span>=<span style=\"color: #008080; text-decoration-color: #008080; font-weight: bold\">1920</span>                                      <span style=\"color: #7f7f7f; text-decoration-color: #7f7f7f\">match_history.py:17</span>\n",
       "</pre>\n"
      ],
      "text/plain": [
       "\u001b[2;36m                   \u001b[0m\u001b[2;36m \u001b[0m\u001b[34mINFO    \u001b[0m Parsing \u001b[33mleague\u001b[0m=\u001b[35mE0\u001b[0m \u001b[33mseason\u001b[0m=\u001b[1;36m1920\u001b[0m                                      \u001b[2mmatch_history.py\u001b[0m\u001b[2m:\u001b[0m\u001b[2m17\u001b[0m\n"
      ]
     },
     "metadata": {},
     "output_type": "display_data"
    },
    {
     "data": {
      "text/html": [
       "<pre style=\"white-space:pre;overflow-x:auto;line-height:normal;font-family:Menlo,'DejaVu Sans Mono',consolas,'Courier New',monospace\"><span style=\"color: #7fbfbf; text-decoration-color: #7fbfbf\">                    </span><span style=\"color: #000080; text-decoration-color: #000080\">INFO    </span> Parsing <span style=\"color: #808000; text-decoration-color: #808000\">league</span>=<span style=\"color: #800080; text-decoration-color: #800080\">E0</span> <span style=\"color: #808000; text-decoration-color: #808000\">season</span>=<span style=\"color: #008080; text-decoration-color: #008080; font-weight: bold\">2021</span>                                      <span style=\"color: #7f7f7f; text-decoration-color: #7f7f7f\">match_history.py:17</span>\n",
       "</pre>\n"
      ],
      "text/plain": [
       "\u001b[2;36m                   \u001b[0m\u001b[2;36m \u001b[0m\u001b[34mINFO    \u001b[0m Parsing \u001b[33mleague\u001b[0m=\u001b[35mE0\u001b[0m \u001b[33mseason\u001b[0m=\u001b[1;36m2021\u001b[0m                                      \u001b[2mmatch_history.py\u001b[0m\u001b[2m:\u001b[0m\u001b[2m17\u001b[0m\n"
      ]
     },
     "metadata": {},
     "output_type": "display_data"
    },
    {
     "data": {
      "text/html": [
       "<pre style=\"white-space:pre;overflow-x:auto;line-height:normal;font-family:Menlo,'DejaVu Sans Mono',consolas,'Courier New',monospace\"><span style=\"color: #7fbfbf; text-decoration-color: #7fbfbf\">[05/01/25 16:45:47] </span><span style=\"color: #000080; text-decoration-color: #000080\">INFO    </span> Parsing <span style=\"color: #808000; text-decoration-color: #808000\">league</span>=<span style=\"color: #800080; text-decoration-color: #800080\">E0</span> <span style=\"color: #808000; text-decoration-color: #808000\">season</span>=<span style=\"color: #008080; text-decoration-color: #008080; font-weight: bold\">2021</span>                                      <span style=\"color: #7f7f7f; text-decoration-color: #7f7f7f\">match_history.py:17</span>\n",
       "</pre>\n"
      ],
      "text/plain": [
       "\u001b[2;36m[05/01/25 16:45:47]\u001b[0m\u001b[2;36m \u001b[0m\u001b[34mINFO    \u001b[0m Parsing \u001b[33mleague\u001b[0m=\u001b[35mE0\u001b[0m \u001b[33mseason\u001b[0m=\u001b[1;36m2021\u001b[0m                                      \u001b[2mmatch_history.py\u001b[0m\u001b[2m:\u001b[0m\u001b[2m17\u001b[0m\n"
      ]
     },
     "metadata": {},
     "output_type": "display_data"
    },
    {
     "data": {
      "text/html": [
       "<pre style=\"white-space:pre;overflow-x:auto;line-height:normal;font-family:Menlo,'DejaVu Sans Mono',consolas,'Courier New',monospace\"><span style=\"color: #7fbfbf; text-decoration-color: #7fbfbf\">                    </span><span style=\"color: #000080; text-decoration-color: #000080\">INFO    </span> Parsing <span style=\"color: #808000; text-decoration-color: #808000\">league</span>=<span style=\"color: #800080; text-decoration-color: #800080\">E0</span> <span style=\"color: #808000; text-decoration-color: #808000\">season</span>=<span style=\"color: #008080; text-decoration-color: #008080; font-weight: bold\">2223</span>                                      <span style=\"color: #7f7f7f; text-decoration-color: #7f7f7f\">match_history.py:17</span>\n",
       "</pre>\n"
      ],
      "text/plain": [
       "\u001b[2;36m                   \u001b[0m\u001b[2;36m \u001b[0m\u001b[34mINFO    \u001b[0m Parsing \u001b[33mleague\u001b[0m=\u001b[35mE0\u001b[0m \u001b[33mseason\u001b[0m=\u001b[1;36m2223\u001b[0m                                      \u001b[2mmatch_history.py\u001b[0m\u001b[2m:\u001b[0m\u001b[2m17\u001b[0m\n"
      ]
     },
     "metadata": {},
     "output_type": "display_data"
    },
    {
     "data": {
      "text/html": [
       "<pre style=\"white-space:pre;overflow-x:auto;line-height:normal;font-family:Menlo,'DejaVu Sans Mono',consolas,'Courier New',monospace\"><span style=\"color: #7fbfbf; text-decoration-color: #7fbfbf\">                    </span><span style=\"color: #000080; text-decoration-color: #000080\">INFO    </span> Parsing <span style=\"color: #808000; text-decoration-color: #808000\">league</span>=<span style=\"color: #800080; text-decoration-color: #800080\">E0</span> <span style=\"color: #808000; text-decoration-color: #808000\">season</span>=<span style=\"color: #008080; text-decoration-color: #008080; font-weight: bold\">2324</span>                                      <span style=\"color: #7f7f7f; text-decoration-color: #7f7f7f\">match_history.py:17</span>\n",
       "</pre>\n"
      ],
      "text/plain": [
       "\u001b[2;36m                   \u001b[0m\u001b[2;36m \u001b[0m\u001b[34mINFO    \u001b[0m Parsing \u001b[33mleague\u001b[0m=\u001b[35mE0\u001b[0m \u001b[33mseason\u001b[0m=\u001b[1;36m2324\u001b[0m                                      \u001b[2mmatch_history.py\u001b[0m\u001b[2m:\u001b[0m\u001b[2m17\u001b[0m\n"
      ]
     },
     "metadata": {},
     "output_type": "display_data"
    },
    {
     "data": {
      "text/html": [
       "<pre style=\"white-space:pre;overflow-x:auto;line-height:normal;font-family:Menlo,'DejaVu Sans Mono',consolas,'Courier New',monospace\"><span style=\"color: #7fbfbf; text-decoration-color: #7fbfbf\">                    </span><span style=\"color: #000080; text-decoration-color: #000080\">INFO    </span> Parsing <span style=\"color: #808000; text-decoration-color: #808000\">league</span>=<span style=\"color: #800080; text-decoration-color: #800080\">E0</span> <span style=\"color: #808000; text-decoration-color: #808000\">season</span>=<span style=\"color: #008080; text-decoration-color: #008080; font-weight: bold\">2425</span>                                      <span style=\"color: #7f7f7f; text-decoration-color: #7f7f7f\">match_history.py:17</span>\n",
       "</pre>\n"
      ],
      "text/plain": [
       "\u001b[2;36m                   \u001b[0m\u001b[2;36m \u001b[0m\u001b[34mINFO    \u001b[0m Parsing \u001b[33mleague\u001b[0m=\u001b[35mE0\u001b[0m \u001b[33mseason\u001b[0m=\u001b[1;36m2425\u001b[0m                                      \u001b[2mmatch_history.py\u001b[0m\u001b[2m:\u001b[0m\u001b[2m17\u001b[0m\n"
      ]
     },
     "metadata": {},
     "output_type": "display_data"
    },
    {
     "data": {
      "text/html": [
       "<pre style=\"white-space:pre;overflow-x:auto;line-height:normal;font-family:Menlo,'DejaVu Sans Mono',consolas,'Courier New',monospace\"><span style=\"color: #7fbfbf; text-decoration-color: #7fbfbf\">                    </span><span style=\"color: #000080; text-decoration-color: #000080\">INFO    </span> Parsing <span style=\"color: #808000; text-decoration-color: #808000\">league</span>=<span style=\"color: #800080; text-decoration-color: #800080\">SP1</span> <span style=\"color: #808000; text-decoration-color: #808000\">season</span>=<span style=\"color: #008080; text-decoration-color: #008080; font-weight: bold\">0506</span>                                     <span style=\"color: #7f7f7f; text-decoration-color: #7f7f7f\">match_history.py:17</span>\n",
       "</pre>\n"
      ],
      "text/plain": [
       "\u001b[2;36m                   \u001b[0m\u001b[2;36m \u001b[0m\u001b[34mINFO    \u001b[0m Parsing \u001b[33mleague\u001b[0m=\u001b[35mSP1\u001b[0m \u001b[33mseason\u001b[0m=\u001b[1;36m0506\u001b[0m                                     \u001b[2mmatch_history.py\u001b[0m\u001b[2m:\u001b[0m\u001b[2m17\u001b[0m\n"
      ]
     },
     "metadata": {},
     "output_type": "display_data"
    },
    {
     "data": {
      "text/html": [
       "<pre style=\"white-space:pre;overflow-x:auto;line-height:normal;font-family:Menlo,'DejaVu Sans Mono',consolas,'Courier New',monospace\"><span style=\"color: #7fbfbf; text-decoration-color: #7fbfbf\">                    </span><span style=\"color: #000080; text-decoration-color: #000080\">INFO    </span> Parsing <span style=\"color: #808000; text-decoration-color: #808000\">league</span>=<span style=\"color: #800080; text-decoration-color: #800080\">SP1</span> <span style=\"color: #808000; text-decoration-color: #808000\">season</span>=<span style=\"color: #008080; text-decoration-color: #008080; font-weight: bold\">0607</span>                                     <span style=\"color: #7f7f7f; text-decoration-color: #7f7f7f\">match_history.py:17</span>\n",
       "</pre>\n"
      ],
      "text/plain": [
       "\u001b[2;36m                   \u001b[0m\u001b[2;36m \u001b[0m\u001b[34mINFO    \u001b[0m Parsing \u001b[33mleague\u001b[0m=\u001b[35mSP1\u001b[0m \u001b[33mseason\u001b[0m=\u001b[1;36m0607\u001b[0m                                     \u001b[2mmatch_history.py\u001b[0m\u001b[2m:\u001b[0m\u001b[2m17\u001b[0m\n"
      ]
     },
     "metadata": {},
     "output_type": "display_data"
    },
    {
     "data": {
      "text/html": [
       "<pre style=\"white-space:pre;overflow-x:auto;line-height:normal;font-family:Menlo,'DejaVu Sans Mono',consolas,'Courier New',monospace\"><span style=\"color: #7fbfbf; text-decoration-color: #7fbfbf\">                    </span><span style=\"color: #000080; text-decoration-color: #000080\">INFO    </span> Parsing <span style=\"color: #808000; text-decoration-color: #808000\">league</span>=<span style=\"color: #800080; text-decoration-color: #800080\">SP1</span> <span style=\"color: #808000; text-decoration-color: #808000\">season</span>=<span style=\"color: #008080; text-decoration-color: #008080; font-weight: bold\">0708</span>                                     <span style=\"color: #7f7f7f; text-decoration-color: #7f7f7f\">match_history.py:17</span>\n",
       "</pre>\n"
      ],
      "text/plain": [
       "\u001b[2;36m                   \u001b[0m\u001b[2;36m \u001b[0m\u001b[34mINFO    \u001b[0m Parsing \u001b[33mleague\u001b[0m=\u001b[35mSP1\u001b[0m \u001b[33mseason\u001b[0m=\u001b[1;36m0708\u001b[0m                                     \u001b[2mmatch_history.py\u001b[0m\u001b[2m:\u001b[0m\u001b[2m17\u001b[0m\n"
      ]
     },
     "metadata": {},
     "output_type": "display_data"
    },
    {
     "data": {
      "text/html": [
       "<pre style=\"white-space:pre;overflow-x:auto;line-height:normal;font-family:Menlo,'DejaVu Sans Mono',consolas,'Courier New',monospace\"><span style=\"color: #7fbfbf; text-decoration-color: #7fbfbf\">                    </span><span style=\"color: #000080; text-decoration-color: #000080\">INFO    </span> Parsing <span style=\"color: #808000; text-decoration-color: #808000\">league</span>=<span style=\"color: #800080; text-decoration-color: #800080\">SP1</span> <span style=\"color: #808000; text-decoration-color: #808000\">season</span>=<span style=\"color: #008080; text-decoration-color: #008080; font-weight: bold\">0809</span>                                     <span style=\"color: #7f7f7f; text-decoration-color: #7f7f7f\">match_history.py:17</span>\n",
       "</pre>\n"
      ],
      "text/plain": [
       "\u001b[2;36m                   \u001b[0m\u001b[2;36m \u001b[0m\u001b[34mINFO    \u001b[0m Parsing \u001b[33mleague\u001b[0m=\u001b[35mSP1\u001b[0m \u001b[33mseason\u001b[0m=\u001b[1;36m0809\u001b[0m                                     \u001b[2mmatch_history.py\u001b[0m\u001b[2m:\u001b[0m\u001b[2m17\u001b[0m\n"
      ]
     },
     "metadata": {},
     "output_type": "display_data"
    },
    {
     "data": {
      "text/html": [
       "<pre style=\"white-space:pre;overflow-x:auto;line-height:normal;font-family:Menlo,'DejaVu Sans Mono',consolas,'Courier New',monospace\"><span style=\"color: #7fbfbf; text-decoration-color: #7fbfbf\">                    </span><span style=\"color: #000080; text-decoration-color: #000080\">INFO    </span> Parsing <span style=\"color: #808000; text-decoration-color: #808000\">league</span>=<span style=\"color: #800080; text-decoration-color: #800080\">SP1</span> <span style=\"color: #808000; text-decoration-color: #808000\">season</span>=<span style=\"color: #008080; text-decoration-color: #008080; font-weight: bold\">0910</span>                                     <span style=\"color: #7f7f7f; text-decoration-color: #7f7f7f\">match_history.py:17</span>\n",
       "</pre>\n"
      ],
      "text/plain": [
       "\u001b[2;36m                   \u001b[0m\u001b[2;36m \u001b[0m\u001b[34mINFO    \u001b[0m Parsing \u001b[33mleague\u001b[0m=\u001b[35mSP1\u001b[0m \u001b[33mseason\u001b[0m=\u001b[1;36m0910\u001b[0m                                     \u001b[2mmatch_history.py\u001b[0m\u001b[2m:\u001b[0m\u001b[2m17\u001b[0m\n"
      ]
     },
     "metadata": {},
     "output_type": "display_data"
    },
    {
     "data": {
      "text/html": [
       "<pre style=\"white-space:pre;overflow-x:auto;line-height:normal;font-family:Menlo,'DejaVu Sans Mono',consolas,'Courier New',monospace\"><span style=\"color: #7fbfbf; text-decoration-color: #7fbfbf\">                    </span><span style=\"color: #000080; text-decoration-color: #000080\">INFO    </span> Parsing <span style=\"color: #808000; text-decoration-color: #808000\">league</span>=<span style=\"color: #800080; text-decoration-color: #800080\">SP1</span> <span style=\"color: #808000; text-decoration-color: #808000\">season</span>=<span style=\"color: #008080; text-decoration-color: #008080; font-weight: bold\">1011</span>                                     <span style=\"color: #7f7f7f; text-decoration-color: #7f7f7f\">match_history.py:17</span>\n",
       "</pre>\n"
      ],
      "text/plain": [
       "\u001b[2;36m                   \u001b[0m\u001b[2;36m \u001b[0m\u001b[34mINFO    \u001b[0m Parsing \u001b[33mleague\u001b[0m=\u001b[35mSP1\u001b[0m \u001b[33mseason\u001b[0m=\u001b[1;36m1011\u001b[0m                                     \u001b[2mmatch_history.py\u001b[0m\u001b[2m:\u001b[0m\u001b[2m17\u001b[0m\n"
      ]
     },
     "metadata": {},
     "output_type": "display_data"
    },
    {
     "data": {
      "text/html": [
       "<pre style=\"white-space:pre;overflow-x:auto;line-height:normal;font-family:Menlo,'DejaVu Sans Mono',consolas,'Courier New',monospace\"><span style=\"color: #7fbfbf; text-decoration-color: #7fbfbf\">                    </span><span style=\"color: #000080; text-decoration-color: #000080\">INFO    </span> Parsing <span style=\"color: #808000; text-decoration-color: #808000\">league</span>=<span style=\"color: #800080; text-decoration-color: #800080\">SP1</span> <span style=\"color: #808000; text-decoration-color: #808000\">season</span>=<span style=\"color: #008080; text-decoration-color: #008080; font-weight: bold\">1112</span>                                     <span style=\"color: #7f7f7f; text-decoration-color: #7f7f7f\">match_history.py:17</span>\n",
       "</pre>\n"
      ],
      "text/plain": [
       "\u001b[2;36m                   \u001b[0m\u001b[2;36m \u001b[0m\u001b[34mINFO    \u001b[0m Parsing \u001b[33mleague\u001b[0m=\u001b[35mSP1\u001b[0m \u001b[33mseason\u001b[0m=\u001b[1;36m1112\u001b[0m                                     \u001b[2mmatch_history.py\u001b[0m\u001b[2m:\u001b[0m\u001b[2m17\u001b[0m\n"
      ]
     },
     "metadata": {},
     "output_type": "display_data"
    },
    {
     "data": {
      "text/html": [
       "<pre style=\"white-space:pre;overflow-x:auto;line-height:normal;font-family:Menlo,'DejaVu Sans Mono',consolas,'Courier New',monospace\"><span style=\"color: #7fbfbf; text-decoration-color: #7fbfbf\">                    </span><span style=\"color: #000080; text-decoration-color: #000080\">INFO    </span> Parsing <span style=\"color: #808000; text-decoration-color: #808000\">league</span>=<span style=\"color: #800080; text-decoration-color: #800080\">SP1</span> <span style=\"color: #808000; text-decoration-color: #808000\">season</span>=<span style=\"color: #008080; text-decoration-color: #008080; font-weight: bold\">1213</span>                                     <span style=\"color: #7f7f7f; text-decoration-color: #7f7f7f\">match_history.py:17</span>\n",
       "</pre>\n"
      ],
      "text/plain": [
       "\u001b[2;36m                   \u001b[0m\u001b[2;36m \u001b[0m\u001b[34mINFO    \u001b[0m Parsing \u001b[33mleague\u001b[0m=\u001b[35mSP1\u001b[0m \u001b[33mseason\u001b[0m=\u001b[1;36m1213\u001b[0m                                     \u001b[2mmatch_history.py\u001b[0m\u001b[2m:\u001b[0m\u001b[2m17\u001b[0m\n"
      ]
     },
     "metadata": {},
     "output_type": "display_data"
    },
    {
     "data": {
      "text/html": [
       "<pre style=\"white-space:pre;overflow-x:auto;line-height:normal;font-family:Menlo,'DejaVu Sans Mono',consolas,'Courier New',monospace\"><span style=\"color: #7fbfbf; text-decoration-color: #7fbfbf\">                    </span><span style=\"color: #000080; text-decoration-color: #000080\">INFO    </span> Parsing <span style=\"color: #808000; text-decoration-color: #808000\">league</span>=<span style=\"color: #800080; text-decoration-color: #800080\">SP1</span> <span style=\"color: #808000; text-decoration-color: #808000\">season</span>=<span style=\"color: #008080; text-decoration-color: #008080; font-weight: bold\">1314</span>                                     <span style=\"color: #7f7f7f; text-decoration-color: #7f7f7f\">match_history.py:17</span>\n",
       "</pre>\n"
      ],
      "text/plain": [
       "\u001b[2;36m                   \u001b[0m\u001b[2;36m \u001b[0m\u001b[34mINFO    \u001b[0m Parsing \u001b[33mleague\u001b[0m=\u001b[35mSP1\u001b[0m \u001b[33mseason\u001b[0m=\u001b[1;36m1314\u001b[0m                                     \u001b[2mmatch_history.py\u001b[0m\u001b[2m:\u001b[0m\u001b[2m17\u001b[0m\n"
      ]
     },
     "metadata": {},
     "output_type": "display_data"
    },
    {
     "data": {
      "text/html": [
       "<pre style=\"white-space:pre;overflow-x:auto;line-height:normal;font-family:Menlo,'DejaVu Sans Mono',consolas,'Courier New',monospace\"><span style=\"color: #7fbfbf; text-decoration-color: #7fbfbf\">                    </span><span style=\"color: #000080; text-decoration-color: #000080\">INFO    </span> Parsing <span style=\"color: #808000; text-decoration-color: #808000\">league</span>=<span style=\"color: #800080; text-decoration-color: #800080\">SP1</span> <span style=\"color: #808000; text-decoration-color: #808000\">season</span>=<span style=\"color: #008080; text-decoration-color: #008080; font-weight: bold\">1415</span>                                     <span style=\"color: #7f7f7f; text-decoration-color: #7f7f7f\">match_history.py:17</span>\n",
       "</pre>\n"
      ],
      "text/plain": [
       "\u001b[2;36m                   \u001b[0m\u001b[2;36m \u001b[0m\u001b[34mINFO    \u001b[0m Parsing \u001b[33mleague\u001b[0m=\u001b[35mSP1\u001b[0m \u001b[33mseason\u001b[0m=\u001b[1;36m1415\u001b[0m                                     \u001b[2mmatch_history.py\u001b[0m\u001b[2m:\u001b[0m\u001b[2m17\u001b[0m\n"
      ]
     },
     "metadata": {},
     "output_type": "display_data"
    },
    {
     "data": {
      "text/html": [
       "<pre style=\"white-space:pre;overflow-x:auto;line-height:normal;font-family:Menlo,'DejaVu Sans Mono',consolas,'Courier New',monospace\"><span style=\"color: #7fbfbf; text-decoration-color: #7fbfbf\">                    </span><span style=\"color: #000080; text-decoration-color: #000080\">INFO    </span> Parsing <span style=\"color: #808000; text-decoration-color: #808000\">league</span>=<span style=\"color: #800080; text-decoration-color: #800080\">SP1</span> <span style=\"color: #808000; text-decoration-color: #808000\">season</span>=<span style=\"color: #008080; text-decoration-color: #008080; font-weight: bold\">1516</span>                                     <span style=\"color: #7f7f7f; text-decoration-color: #7f7f7f\">match_history.py:17</span>\n",
       "</pre>\n"
      ],
      "text/plain": [
       "\u001b[2;36m                   \u001b[0m\u001b[2;36m \u001b[0m\u001b[34mINFO    \u001b[0m Parsing \u001b[33mleague\u001b[0m=\u001b[35mSP1\u001b[0m \u001b[33mseason\u001b[0m=\u001b[1;36m1516\u001b[0m                                     \u001b[2mmatch_history.py\u001b[0m\u001b[2m:\u001b[0m\u001b[2m17\u001b[0m\n"
      ]
     },
     "metadata": {},
     "output_type": "display_data"
    },
    {
     "data": {
      "text/html": [
       "<pre style=\"white-space:pre;overflow-x:auto;line-height:normal;font-family:Menlo,'DejaVu Sans Mono',consolas,'Courier New',monospace\"><span style=\"color: #7fbfbf; text-decoration-color: #7fbfbf\">                    </span><span style=\"color: #000080; text-decoration-color: #000080\">INFO    </span> Parsing <span style=\"color: #808000; text-decoration-color: #808000\">league</span>=<span style=\"color: #800080; text-decoration-color: #800080\">SP1</span> <span style=\"color: #808000; text-decoration-color: #808000\">season</span>=<span style=\"color: #008080; text-decoration-color: #008080; font-weight: bold\">1617</span>                                     <span style=\"color: #7f7f7f; text-decoration-color: #7f7f7f\">match_history.py:17</span>\n",
       "</pre>\n"
      ],
      "text/plain": [
       "\u001b[2;36m                   \u001b[0m\u001b[2;36m \u001b[0m\u001b[34mINFO    \u001b[0m Parsing \u001b[33mleague\u001b[0m=\u001b[35mSP1\u001b[0m \u001b[33mseason\u001b[0m=\u001b[1;36m1617\u001b[0m                                     \u001b[2mmatch_history.py\u001b[0m\u001b[2m:\u001b[0m\u001b[2m17\u001b[0m\n"
      ]
     },
     "metadata": {},
     "output_type": "display_data"
    },
    {
     "data": {
      "text/html": [
       "<pre style=\"white-space:pre;overflow-x:auto;line-height:normal;font-family:Menlo,'DejaVu Sans Mono',consolas,'Courier New',monospace\"><span style=\"color: #7fbfbf; text-decoration-color: #7fbfbf\">[05/01/25 16:45:48] </span><span style=\"color: #000080; text-decoration-color: #000080\">INFO    </span> Parsing <span style=\"color: #808000; text-decoration-color: #808000\">league</span>=<span style=\"color: #800080; text-decoration-color: #800080\">SP1</span> <span style=\"color: #808000; text-decoration-color: #808000\">season</span>=<span style=\"color: #008080; text-decoration-color: #008080; font-weight: bold\">1718</span>                                     <span style=\"color: #7f7f7f; text-decoration-color: #7f7f7f\">match_history.py:17</span>\n",
       "</pre>\n"
      ],
      "text/plain": [
       "\u001b[2;36m[05/01/25 16:45:48]\u001b[0m\u001b[2;36m \u001b[0m\u001b[34mINFO    \u001b[0m Parsing \u001b[33mleague\u001b[0m=\u001b[35mSP1\u001b[0m \u001b[33mseason\u001b[0m=\u001b[1;36m1718\u001b[0m                                     \u001b[2mmatch_history.py\u001b[0m\u001b[2m:\u001b[0m\u001b[2m17\u001b[0m\n"
      ]
     },
     "metadata": {},
     "output_type": "display_data"
    },
    {
     "data": {
      "text/html": [
       "<pre style=\"white-space:pre;overflow-x:auto;line-height:normal;font-family:Menlo,'DejaVu Sans Mono',consolas,'Courier New',monospace\"><span style=\"color: #7fbfbf; text-decoration-color: #7fbfbf\">                    </span><span style=\"color: #000080; text-decoration-color: #000080\">INFO    </span> Parsing <span style=\"color: #808000; text-decoration-color: #808000\">league</span>=<span style=\"color: #800080; text-decoration-color: #800080\">SP1</span> <span style=\"color: #808000; text-decoration-color: #808000\">season</span>=<span style=\"color: #008080; text-decoration-color: #008080; font-weight: bold\">1819</span>                                     <span style=\"color: #7f7f7f; text-decoration-color: #7f7f7f\">match_history.py:17</span>\n",
       "</pre>\n"
      ],
      "text/plain": [
       "\u001b[2;36m                   \u001b[0m\u001b[2;36m \u001b[0m\u001b[34mINFO    \u001b[0m Parsing \u001b[33mleague\u001b[0m=\u001b[35mSP1\u001b[0m \u001b[33mseason\u001b[0m=\u001b[1;36m1819\u001b[0m                                     \u001b[2mmatch_history.py\u001b[0m\u001b[2m:\u001b[0m\u001b[2m17\u001b[0m\n"
      ]
     },
     "metadata": {},
     "output_type": "display_data"
    },
    {
     "data": {
      "text/html": [
       "<pre style=\"white-space:pre;overflow-x:auto;line-height:normal;font-family:Menlo,'DejaVu Sans Mono',consolas,'Courier New',monospace\"><span style=\"color: #7fbfbf; text-decoration-color: #7fbfbf\">                    </span><span style=\"color: #000080; text-decoration-color: #000080\">INFO    </span> Parsing <span style=\"color: #808000; text-decoration-color: #808000\">league</span>=<span style=\"color: #800080; text-decoration-color: #800080\">SP1</span> <span style=\"color: #808000; text-decoration-color: #808000\">season</span>=<span style=\"color: #008080; text-decoration-color: #008080; font-weight: bold\">1920</span>                                     <span style=\"color: #7f7f7f; text-decoration-color: #7f7f7f\">match_history.py:17</span>\n",
       "</pre>\n"
      ],
      "text/plain": [
       "\u001b[2;36m                   \u001b[0m\u001b[2;36m \u001b[0m\u001b[34mINFO    \u001b[0m Parsing \u001b[33mleague\u001b[0m=\u001b[35mSP1\u001b[0m \u001b[33mseason\u001b[0m=\u001b[1;36m1920\u001b[0m                                     \u001b[2mmatch_history.py\u001b[0m\u001b[2m:\u001b[0m\u001b[2m17\u001b[0m\n"
      ]
     },
     "metadata": {},
     "output_type": "display_data"
    },
    {
     "data": {
      "text/html": [
       "<pre style=\"white-space:pre;overflow-x:auto;line-height:normal;font-family:Menlo,'DejaVu Sans Mono',consolas,'Courier New',monospace\"><span style=\"color: #7fbfbf; text-decoration-color: #7fbfbf\">                    </span><span style=\"color: #000080; text-decoration-color: #000080\">INFO    </span> Parsing <span style=\"color: #808000; text-decoration-color: #808000\">league</span>=<span style=\"color: #800080; text-decoration-color: #800080\">SP1</span> <span style=\"color: #808000; text-decoration-color: #808000\">season</span>=<span style=\"color: #008080; text-decoration-color: #008080; font-weight: bold\">2021</span>                                     <span style=\"color: #7f7f7f; text-decoration-color: #7f7f7f\">match_history.py:17</span>\n",
       "</pre>\n"
      ],
      "text/plain": [
       "\u001b[2;36m                   \u001b[0m\u001b[2;36m \u001b[0m\u001b[34mINFO    \u001b[0m Parsing \u001b[33mleague\u001b[0m=\u001b[35mSP1\u001b[0m \u001b[33mseason\u001b[0m=\u001b[1;36m2021\u001b[0m                                     \u001b[2mmatch_history.py\u001b[0m\u001b[2m:\u001b[0m\u001b[2m17\u001b[0m\n"
      ]
     },
     "metadata": {},
     "output_type": "display_data"
    },
    {
     "data": {
      "text/html": [
       "<pre style=\"white-space:pre;overflow-x:auto;line-height:normal;font-family:Menlo,'DejaVu Sans Mono',consolas,'Courier New',monospace\"><span style=\"color: #7fbfbf; text-decoration-color: #7fbfbf\">                    </span><span style=\"color: #000080; text-decoration-color: #000080\">INFO    </span> Parsing <span style=\"color: #808000; text-decoration-color: #808000\">league</span>=<span style=\"color: #800080; text-decoration-color: #800080\">SP1</span> <span style=\"color: #808000; text-decoration-color: #808000\">season</span>=<span style=\"color: #008080; text-decoration-color: #008080; font-weight: bold\">2021</span>                                     <span style=\"color: #7f7f7f; text-decoration-color: #7f7f7f\">match_history.py:17</span>\n",
       "</pre>\n"
      ],
      "text/plain": [
       "\u001b[2;36m                   \u001b[0m\u001b[2;36m \u001b[0m\u001b[34mINFO    \u001b[0m Parsing \u001b[33mleague\u001b[0m=\u001b[35mSP1\u001b[0m \u001b[33mseason\u001b[0m=\u001b[1;36m2021\u001b[0m                                     \u001b[2mmatch_history.py\u001b[0m\u001b[2m:\u001b[0m\u001b[2m17\u001b[0m\n"
      ]
     },
     "metadata": {},
     "output_type": "display_data"
    },
    {
     "data": {
      "text/html": [
       "<pre style=\"white-space:pre;overflow-x:auto;line-height:normal;font-family:Menlo,'DejaVu Sans Mono',consolas,'Courier New',monospace\"><span style=\"color: #7fbfbf; text-decoration-color: #7fbfbf\">                    </span><span style=\"color: #000080; text-decoration-color: #000080\">INFO    </span> Parsing <span style=\"color: #808000; text-decoration-color: #808000\">league</span>=<span style=\"color: #800080; text-decoration-color: #800080\">SP1</span> <span style=\"color: #808000; text-decoration-color: #808000\">season</span>=<span style=\"color: #008080; text-decoration-color: #008080; font-weight: bold\">2223</span>                                     <span style=\"color: #7f7f7f; text-decoration-color: #7f7f7f\">match_history.py:17</span>\n",
       "</pre>\n"
      ],
      "text/plain": [
       "\u001b[2;36m                   \u001b[0m\u001b[2;36m \u001b[0m\u001b[34mINFO    \u001b[0m Parsing \u001b[33mleague\u001b[0m=\u001b[35mSP1\u001b[0m \u001b[33mseason\u001b[0m=\u001b[1;36m2223\u001b[0m                                     \u001b[2mmatch_history.py\u001b[0m\u001b[2m:\u001b[0m\u001b[2m17\u001b[0m\n"
      ]
     },
     "metadata": {},
     "output_type": "display_data"
    },
    {
     "data": {
      "text/html": [
       "<pre style=\"white-space:pre;overflow-x:auto;line-height:normal;font-family:Menlo,'DejaVu Sans Mono',consolas,'Courier New',monospace\"><span style=\"color: #7fbfbf; text-decoration-color: #7fbfbf\">                    </span><span style=\"color: #000080; text-decoration-color: #000080\">INFO    </span> Parsing <span style=\"color: #808000; text-decoration-color: #808000\">league</span>=<span style=\"color: #800080; text-decoration-color: #800080\">SP1</span> <span style=\"color: #808000; text-decoration-color: #808000\">season</span>=<span style=\"color: #008080; text-decoration-color: #008080; font-weight: bold\">2324</span>                                     <span style=\"color: #7f7f7f; text-decoration-color: #7f7f7f\">match_history.py:17</span>\n",
       "</pre>\n"
      ],
      "text/plain": [
       "\u001b[2;36m                   \u001b[0m\u001b[2;36m \u001b[0m\u001b[34mINFO    \u001b[0m Parsing \u001b[33mleague\u001b[0m=\u001b[35mSP1\u001b[0m \u001b[33mseason\u001b[0m=\u001b[1;36m2324\u001b[0m                                     \u001b[2mmatch_history.py\u001b[0m\u001b[2m:\u001b[0m\u001b[2m17\u001b[0m\n"
      ]
     },
     "metadata": {},
     "output_type": "display_data"
    },
    {
     "data": {
      "text/html": [
       "<pre style=\"white-space:pre;overflow-x:auto;line-height:normal;font-family:Menlo,'DejaVu Sans Mono',consolas,'Courier New',monospace\"><span style=\"color: #7fbfbf; text-decoration-color: #7fbfbf\">                    </span><span style=\"color: #000080; text-decoration-color: #000080\">INFO    </span> Parsing <span style=\"color: #808000; text-decoration-color: #808000\">league</span>=<span style=\"color: #800080; text-decoration-color: #800080\">SP1</span> <span style=\"color: #808000; text-decoration-color: #808000\">season</span>=<span style=\"color: #008080; text-decoration-color: #008080; font-weight: bold\">2425</span>                                     <span style=\"color: #7f7f7f; text-decoration-color: #7f7f7f\">match_history.py:17</span>\n",
       "</pre>\n"
      ],
      "text/plain": [
       "\u001b[2;36m                   \u001b[0m\u001b[2;36m \u001b[0m\u001b[34mINFO    \u001b[0m Parsing \u001b[33mleague\u001b[0m=\u001b[35mSP1\u001b[0m \u001b[33mseason\u001b[0m=\u001b[1;36m2425\u001b[0m                                     \u001b[2mmatch_history.py\u001b[0m\u001b[2m:\u001b[0m\u001b[2m17\u001b[0m\n"
      ]
     },
     "metadata": {},
     "output_type": "display_data"
    },
    {
     "data": {
      "text/html": [
       "<pre style=\"white-space:pre;overflow-x:auto;line-height:normal;font-family:Menlo,'DejaVu Sans Mono',consolas,'Courier New',monospace\"><span style=\"color: #7fbfbf; text-decoration-color: #7fbfbf\">                    </span><span style=\"color: #000080; text-decoration-color: #000080\">INFO    </span> Parsing <span style=\"color: #808000; text-decoration-color: #808000\">league</span>=<span style=\"color: #800080; text-decoration-color: #800080\">F1</span> <span style=\"color: #808000; text-decoration-color: #808000\">season</span>=<span style=\"color: #008080; text-decoration-color: #008080; font-weight: bold\">0506</span>                                      <span style=\"color: #7f7f7f; text-decoration-color: #7f7f7f\">match_history.py:17</span>\n",
       "</pre>\n"
      ],
      "text/plain": [
       "\u001b[2;36m                   \u001b[0m\u001b[2;36m \u001b[0m\u001b[34mINFO    \u001b[0m Parsing \u001b[33mleague\u001b[0m=\u001b[35mF1\u001b[0m \u001b[33mseason\u001b[0m=\u001b[1;36m0506\u001b[0m                                      \u001b[2mmatch_history.py\u001b[0m\u001b[2m:\u001b[0m\u001b[2m17\u001b[0m\n"
      ]
     },
     "metadata": {},
     "output_type": "display_data"
    },
    {
     "data": {
      "text/html": [
       "<pre style=\"white-space:pre;overflow-x:auto;line-height:normal;font-family:Menlo,'DejaVu Sans Mono',consolas,'Courier New',monospace\"><span style=\"color: #7fbfbf; text-decoration-color: #7fbfbf\">                    </span><span style=\"color: #000080; text-decoration-color: #000080\">INFO    </span> Parsing <span style=\"color: #808000; text-decoration-color: #808000\">league</span>=<span style=\"color: #800080; text-decoration-color: #800080\">F1</span> <span style=\"color: #808000; text-decoration-color: #808000\">season</span>=<span style=\"color: #008080; text-decoration-color: #008080; font-weight: bold\">0607</span>                                      <span style=\"color: #7f7f7f; text-decoration-color: #7f7f7f\">match_history.py:17</span>\n",
       "</pre>\n"
      ],
      "text/plain": [
       "\u001b[2;36m                   \u001b[0m\u001b[2;36m \u001b[0m\u001b[34mINFO    \u001b[0m Parsing \u001b[33mleague\u001b[0m=\u001b[35mF1\u001b[0m \u001b[33mseason\u001b[0m=\u001b[1;36m0607\u001b[0m                                      \u001b[2mmatch_history.py\u001b[0m\u001b[2m:\u001b[0m\u001b[2m17\u001b[0m\n"
      ]
     },
     "metadata": {},
     "output_type": "display_data"
    },
    {
     "data": {
      "text/html": [
       "<pre style=\"white-space:pre;overflow-x:auto;line-height:normal;font-family:Menlo,'DejaVu Sans Mono',consolas,'Courier New',monospace\"><span style=\"color: #7fbfbf; text-decoration-color: #7fbfbf\">                    </span><span style=\"color: #000080; text-decoration-color: #000080\">INFO    </span> Parsing <span style=\"color: #808000; text-decoration-color: #808000\">league</span>=<span style=\"color: #800080; text-decoration-color: #800080\">F1</span> <span style=\"color: #808000; text-decoration-color: #808000\">season</span>=<span style=\"color: #008080; text-decoration-color: #008080; font-weight: bold\">0708</span>                                      <span style=\"color: #7f7f7f; text-decoration-color: #7f7f7f\">match_history.py:17</span>\n",
       "</pre>\n"
      ],
      "text/plain": [
       "\u001b[2;36m                   \u001b[0m\u001b[2;36m \u001b[0m\u001b[34mINFO    \u001b[0m Parsing \u001b[33mleague\u001b[0m=\u001b[35mF1\u001b[0m \u001b[33mseason\u001b[0m=\u001b[1;36m0708\u001b[0m                                      \u001b[2mmatch_history.py\u001b[0m\u001b[2m:\u001b[0m\u001b[2m17\u001b[0m\n"
      ]
     },
     "metadata": {},
     "output_type": "display_data"
    },
    {
     "data": {
      "text/html": [
       "<pre style=\"white-space:pre;overflow-x:auto;line-height:normal;font-family:Menlo,'DejaVu Sans Mono',consolas,'Courier New',monospace\"><span style=\"color: #7fbfbf; text-decoration-color: #7fbfbf\">                    </span><span style=\"color: #000080; text-decoration-color: #000080\">INFO    </span> Parsing <span style=\"color: #808000; text-decoration-color: #808000\">league</span>=<span style=\"color: #800080; text-decoration-color: #800080\">F1</span> <span style=\"color: #808000; text-decoration-color: #808000\">season</span>=<span style=\"color: #008080; text-decoration-color: #008080; font-weight: bold\">0809</span>                                      <span style=\"color: #7f7f7f; text-decoration-color: #7f7f7f\">match_history.py:17</span>\n",
       "</pre>\n"
      ],
      "text/plain": [
       "\u001b[2;36m                   \u001b[0m\u001b[2;36m \u001b[0m\u001b[34mINFO    \u001b[0m Parsing \u001b[33mleague\u001b[0m=\u001b[35mF1\u001b[0m \u001b[33mseason\u001b[0m=\u001b[1;36m0809\u001b[0m                                      \u001b[2mmatch_history.py\u001b[0m\u001b[2m:\u001b[0m\u001b[2m17\u001b[0m\n"
      ]
     },
     "metadata": {},
     "output_type": "display_data"
    },
    {
     "data": {
      "text/html": [
       "<pre style=\"white-space:pre;overflow-x:auto;line-height:normal;font-family:Menlo,'DejaVu Sans Mono',consolas,'Courier New',monospace\"><span style=\"color: #7fbfbf; text-decoration-color: #7fbfbf\">                    </span><span style=\"color: #000080; text-decoration-color: #000080\">INFO    </span> Parsing <span style=\"color: #808000; text-decoration-color: #808000\">league</span>=<span style=\"color: #800080; text-decoration-color: #800080\">F1</span> <span style=\"color: #808000; text-decoration-color: #808000\">season</span>=<span style=\"color: #008080; text-decoration-color: #008080; font-weight: bold\">0910</span>                                      <span style=\"color: #7f7f7f; text-decoration-color: #7f7f7f\">match_history.py:17</span>\n",
       "</pre>\n"
      ],
      "text/plain": [
       "\u001b[2;36m                   \u001b[0m\u001b[2;36m \u001b[0m\u001b[34mINFO    \u001b[0m Parsing \u001b[33mleague\u001b[0m=\u001b[35mF1\u001b[0m \u001b[33mseason\u001b[0m=\u001b[1;36m0910\u001b[0m                                      \u001b[2mmatch_history.py\u001b[0m\u001b[2m:\u001b[0m\u001b[2m17\u001b[0m\n"
      ]
     },
     "metadata": {},
     "output_type": "display_data"
    },
    {
     "data": {
      "text/html": [
       "<pre style=\"white-space:pre;overflow-x:auto;line-height:normal;font-family:Menlo,'DejaVu Sans Mono',consolas,'Courier New',monospace\"><span style=\"color: #7fbfbf; text-decoration-color: #7fbfbf\">                    </span><span style=\"color: #000080; text-decoration-color: #000080\">INFO    </span> Parsing <span style=\"color: #808000; text-decoration-color: #808000\">league</span>=<span style=\"color: #800080; text-decoration-color: #800080\">F1</span> <span style=\"color: #808000; text-decoration-color: #808000\">season</span>=<span style=\"color: #008080; text-decoration-color: #008080; font-weight: bold\">1011</span>                                      <span style=\"color: #7f7f7f; text-decoration-color: #7f7f7f\">match_history.py:17</span>\n",
       "</pre>\n"
      ],
      "text/plain": [
       "\u001b[2;36m                   \u001b[0m\u001b[2;36m \u001b[0m\u001b[34mINFO    \u001b[0m Parsing \u001b[33mleague\u001b[0m=\u001b[35mF1\u001b[0m \u001b[33mseason\u001b[0m=\u001b[1;36m1011\u001b[0m                                      \u001b[2mmatch_history.py\u001b[0m\u001b[2m:\u001b[0m\u001b[2m17\u001b[0m\n"
      ]
     },
     "metadata": {},
     "output_type": "display_data"
    },
    {
     "data": {
      "text/html": [
       "<pre style=\"white-space:pre;overflow-x:auto;line-height:normal;font-family:Menlo,'DejaVu Sans Mono',consolas,'Courier New',monospace\"><span style=\"color: #7fbfbf; text-decoration-color: #7fbfbf\">                    </span><span style=\"color: #000080; text-decoration-color: #000080\">INFO    </span> Parsing <span style=\"color: #808000; text-decoration-color: #808000\">league</span>=<span style=\"color: #800080; text-decoration-color: #800080\">F1</span> <span style=\"color: #808000; text-decoration-color: #808000\">season</span>=<span style=\"color: #008080; text-decoration-color: #008080; font-weight: bold\">1112</span>                                      <span style=\"color: #7f7f7f; text-decoration-color: #7f7f7f\">match_history.py:17</span>\n",
       "</pre>\n"
      ],
      "text/plain": [
       "\u001b[2;36m                   \u001b[0m\u001b[2;36m \u001b[0m\u001b[34mINFO    \u001b[0m Parsing \u001b[33mleague\u001b[0m=\u001b[35mF1\u001b[0m \u001b[33mseason\u001b[0m=\u001b[1;36m1112\u001b[0m                                      \u001b[2mmatch_history.py\u001b[0m\u001b[2m:\u001b[0m\u001b[2m17\u001b[0m\n"
      ]
     },
     "metadata": {},
     "output_type": "display_data"
    },
    {
     "data": {
      "text/html": [
       "<pre style=\"white-space:pre;overflow-x:auto;line-height:normal;font-family:Menlo,'DejaVu Sans Mono',consolas,'Courier New',monospace\"><span style=\"color: #7fbfbf; text-decoration-color: #7fbfbf\">                    </span><span style=\"color: #000080; text-decoration-color: #000080\">INFO    </span> Parsing <span style=\"color: #808000; text-decoration-color: #808000\">league</span>=<span style=\"color: #800080; text-decoration-color: #800080\">F1</span> <span style=\"color: #808000; text-decoration-color: #808000\">season</span>=<span style=\"color: #008080; text-decoration-color: #008080; font-weight: bold\">1213</span>                                      <span style=\"color: #7f7f7f; text-decoration-color: #7f7f7f\">match_history.py:17</span>\n",
       "</pre>\n"
      ],
      "text/plain": [
       "\u001b[2;36m                   \u001b[0m\u001b[2;36m \u001b[0m\u001b[34mINFO    \u001b[0m Parsing \u001b[33mleague\u001b[0m=\u001b[35mF1\u001b[0m \u001b[33mseason\u001b[0m=\u001b[1;36m1213\u001b[0m                                      \u001b[2mmatch_history.py\u001b[0m\u001b[2m:\u001b[0m\u001b[2m17\u001b[0m\n"
      ]
     },
     "metadata": {},
     "output_type": "display_data"
    },
    {
     "data": {
      "text/html": [
       "<pre style=\"white-space:pre;overflow-x:auto;line-height:normal;font-family:Menlo,'DejaVu Sans Mono',consolas,'Courier New',monospace\"><span style=\"color: #7fbfbf; text-decoration-color: #7fbfbf\">                    </span><span style=\"color: #000080; text-decoration-color: #000080\">INFO    </span> Parsing <span style=\"color: #808000; text-decoration-color: #808000\">league</span>=<span style=\"color: #800080; text-decoration-color: #800080\">F1</span> <span style=\"color: #808000; text-decoration-color: #808000\">season</span>=<span style=\"color: #008080; text-decoration-color: #008080; font-weight: bold\">1314</span>                                      <span style=\"color: #7f7f7f; text-decoration-color: #7f7f7f\">match_history.py:17</span>\n",
       "</pre>\n"
      ],
      "text/plain": [
       "\u001b[2;36m                   \u001b[0m\u001b[2;36m \u001b[0m\u001b[34mINFO    \u001b[0m Parsing \u001b[33mleague\u001b[0m=\u001b[35mF1\u001b[0m \u001b[33mseason\u001b[0m=\u001b[1;36m1314\u001b[0m                                      \u001b[2mmatch_history.py\u001b[0m\u001b[2m:\u001b[0m\u001b[2m17\u001b[0m\n"
      ]
     },
     "metadata": {},
     "output_type": "display_data"
    },
    {
     "data": {
      "text/html": [
       "<pre style=\"white-space:pre;overflow-x:auto;line-height:normal;font-family:Menlo,'DejaVu Sans Mono',consolas,'Courier New',monospace\"><span style=\"color: #7fbfbf; text-decoration-color: #7fbfbf\">                    </span><span style=\"color: #000080; text-decoration-color: #000080\">INFO    </span> Parsing <span style=\"color: #808000; text-decoration-color: #808000\">league</span>=<span style=\"color: #800080; text-decoration-color: #800080\">F1</span> <span style=\"color: #808000; text-decoration-color: #808000\">season</span>=<span style=\"color: #008080; text-decoration-color: #008080; font-weight: bold\">1415</span>                                      <span style=\"color: #7f7f7f; text-decoration-color: #7f7f7f\">match_history.py:17</span>\n",
       "</pre>\n"
      ],
      "text/plain": [
       "\u001b[2;36m                   \u001b[0m\u001b[2;36m \u001b[0m\u001b[34mINFO    \u001b[0m Parsing \u001b[33mleague\u001b[0m=\u001b[35mF1\u001b[0m \u001b[33mseason\u001b[0m=\u001b[1;36m1415\u001b[0m                                      \u001b[2mmatch_history.py\u001b[0m\u001b[2m:\u001b[0m\u001b[2m17\u001b[0m\n"
      ]
     },
     "metadata": {},
     "output_type": "display_data"
    },
    {
     "data": {
      "text/html": [
       "<pre style=\"white-space:pre;overflow-x:auto;line-height:normal;font-family:Menlo,'DejaVu Sans Mono',consolas,'Courier New',monospace\"><span style=\"color: #7fbfbf; text-decoration-color: #7fbfbf\">                    </span><span style=\"color: #000080; text-decoration-color: #000080\">INFO    </span> Parsing <span style=\"color: #808000; text-decoration-color: #808000\">league</span>=<span style=\"color: #800080; text-decoration-color: #800080\">F1</span> <span style=\"color: #808000; text-decoration-color: #808000\">season</span>=<span style=\"color: #008080; text-decoration-color: #008080; font-weight: bold\">1516</span>                                      <span style=\"color: #7f7f7f; text-decoration-color: #7f7f7f\">match_history.py:17</span>\n",
       "</pre>\n"
      ],
      "text/plain": [
       "\u001b[2;36m                   \u001b[0m\u001b[2;36m \u001b[0m\u001b[34mINFO    \u001b[0m Parsing \u001b[33mleague\u001b[0m=\u001b[35mF1\u001b[0m \u001b[33mseason\u001b[0m=\u001b[1;36m1516\u001b[0m                                      \u001b[2mmatch_history.py\u001b[0m\u001b[2m:\u001b[0m\u001b[2m17\u001b[0m\n"
      ]
     },
     "metadata": {},
     "output_type": "display_data"
    },
    {
     "data": {
      "text/html": [
       "<pre style=\"white-space:pre;overflow-x:auto;line-height:normal;font-family:Menlo,'DejaVu Sans Mono',consolas,'Courier New',monospace\"><span style=\"color: #7fbfbf; text-decoration-color: #7fbfbf\">                    </span><span style=\"color: #000080; text-decoration-color: #000080\">INFO    </span> Parsing <span style=\"color: #808000; text-decoration-color: #808000\">league</span>=<span style=\"color: #800080; text-decoration-color: #800080\">F1</span> <span style=\"color: #808000; text-decoration-color: #808000\">season</span>=<span style=\"color: #008080; text-decoration-color: #008080; font-weight: bold\">1617</span>                                      <span style=\"color: #7f7f7f; text-decoration-color: #7f7f7f\">match_history.py:17</span>\n",
       "</pre>\n"
      ],
      "text/plain": [
       "\u001b[2;36m                   \u001b[0m\u001b[2;36m \u001b[0m\u001b[34mINFO    \u001b[0m Parsing \u001b[33mleague\u001b[0m=\u001b[35mF1\u001b[0m \u001b[33mseason\u001b[0m=\u001b[1;36m1617\u001b[0m                                      \u001b[2mmatch_history.py\u001b[0m\u001b[2m:\u001b[0m\u001b[2m17\u001b[0m\n"
      ]
     },
     "metadata": {},
     "output_type": "display_data"
    },
    {
     "data": {
      "text/html": [
       "<pre style=\"white-space:pre;overflow-x:auto;line-height:normal;font-family:Menlo,'DejaVu Sans Mono',consolas,'Courier New',monospace\"><span style=\"color: #7fbfbf; text-decoration-color: #7fbfbf\">                    </span><span style=\"color: #000080; text-decoration-color: #000080\">INFO    </span> Parsing <span style=\"color: #808000; text-decoration-color: #808000\">league</span>=<span style=\"color: #800080; text-decoration-color: #800080\">F1</span> <span style=\"color: #808000; text-decoration-color: #808000\">season</span>=<span style=\"color: #008080; text-decoration-color: #008080; font-weight: bold\">1718</span>                                      <span style=\"color: #7f7f7f; text-decoration-color: #7f7f7f\">match_history.py:17</span>\n",
       "</pre>\n"
      ],
      "text/plain": [
       "\u001b[2;36m                   \u001b[0m\u001b[2;36m \u001b[0m\u001b[34mINFO    \u001b[0m Parsing \u001b[33mleague\u001b[0m=\u001b[35mF1\u001b[0m \u001b[33mseason\u001b[0m=\u001b[1;36m1718\u001b[0m                                      \u001b[2mmatch_history.py\u001b[0m\u001b[2m:\u001b[0m\u001b[2m17\u001b[0m\n"
      ]
     },
     "metadata": {},
     "output_type": "display_data"
    },
    {
     "data": {
      "text/html": [
       "<pre style=\"white-space:pre;overflow-x:auto;line-height:normal;font-family:Menlo,'DejaVu Sans Mono',consolas,'Courier New',monospace\"><span style=\"color: #7fbfbf; text-decoration-color: #7fbfbf\">                    </span><span style=\"color: #000080; text-decoration-color: #000080\">INFO    </span> Parsing <span style=\"color: #808000; text-decoration-color: #808000\">league</span>=<span style=\"color: #800080; text-decoration-color: #800080\">F1</span> <span style=\"color: #808000; text-decoration-color: #808000\">season</span>=<span style=\"color: #008080; text-decoration-color: #008080; font-weight: bold\">1819</span>                                      <span style=\"color: #7f7f7f; text-decoration-color: #7f7f7f\">match_history.py:17</span>\n",
       "</pre>\n"
      ],
      "text/plain": [
       "\u001b[2;36m                   \u001b[0m\u001b[2;36m \u001b[0m\u001b[34mINFO    \u001b[0m Parsing \u001b[33mleague\u001b[0m=\u001b[35mF1\u001b[0m \u001b[33mseason\u001b[0m=\u001b[1;36m1819\u001b[0m                                      \u001b[2mmatch_history.py\u001b[0m\u001b[2m:\u001b[0m\u001b[2m17\u001b[0m\n"
      ]
     },
     "metadata": {},
     "output_type": "display_data"
    },
    {
     "data": {
      "text/html": [
       "<pre style=\"white-space:pre;overflow-x:auto;line-height:normal;font-family:Menlo,'DejaVu Sans Mono',consolas,'Courier New',monospace\"><span style=\"color: #7fbfbf; text-decoration-color: #7fbfbf\">                    </span><span style=\"color: #000080; text-decoration-color: #000080\">INFO    </span> Parsing <span style=\"color: #808000; text-decoration-color: #808000\">league</span>=<span style=\"color: #800080; text-decoration-color: #800080\">F1</span> <span style=\"color: #808000; text-decoration-color: #808000\">season</span>=<span style=\"color: #008080; text-decoration-color: #008080; font-weight: bold\">1920</span>                                      <span style=\"color: #7f7f7f; text-decoration-color: #7f7f7f\">match_history.py:17</span>\n",
       "</pre>\n"
      ],
      "text/plain": [
       "\u001b[2;36m                   \u001b[0m\u001b[2;36m \u001b[0m\u001b[34mINFO    \u001b[0m Parsing \u001b[33mleague\u001b[0m=\u001b[35mF1\u001b[0m \u001b[33mseason\u001b[0m=\u001b[1;36m1920\u001b[0m                                      \u001b[2mmatch_history.py\u001b[0m\u001b[2m:\u001b[0m\u001b[2m17\u001b[0m\n"
      ]
     },
     "metadata": {},
     "output_type": "display_data"
    },
    {
     "data": {
      "text/html": [
       "<pre style=\"white-space:pre;overflow-x:auto;line-height:normal;font-family:Menlo,'DejaVu Sans Mono',consolas,'Courier New',monospace\"><span style=\"color: #7fbfbf; text-decoration-color: #7fbfbf\">                    </span><span style=\"color: #000080; text-decoration-color: #000080\">INFO    </span> Parsing <span style=\"color: #808000; text-decoration-color: #808000\">league</span>=<span style=\"color: #800080; text-decoration-color: #800080\">F1</span> <span style=\"color: #808000; text-decoration-color: #808000\">season</span>=<span style=\"color: #008080; text-decoration-color: #008080; font-weight: bold\">2021</span>                                      <span style=\"color: #7f7f7f; text-decoration-color: #7f7f7f\">match_history.py:17</span>\n",
       "</pre>\n"
      ],
      "text/plain": [
       "\u001b[2;36m                   \u001b[0m\u001b[2;36m \u001b[0m\u001b[34mINFO    \u001b[0m Parsing \u001b[33mleague\u001b[0m=\u001b[35mF1\u001b[0m \u001b[33mseason\u001b[0m=\u001b[1;36m2021\u001b[0m                                      \u001b[2mmatch_history.py\u001b[0m\u001b[2m:\u001b[0m\u001b[2m17\u001b[0m\n"
      ]
     },
     "metadata": {},
     "output_type": "display_data"
    },
    {
     "data": {
      "text/html": [
       "<pre style=\"white-space:pre;overflow-x:auto;line-height:normal;font-family:Menlo,'DejaVu Sans Mono',consolas,'Courier New',monospace\"><span style=\"color: #7fbfbf; text-decoration-color: #7fbfbf\">                    </span><span style=\"color: #000080; text-decoration-color: #000080\">INFO    </span> Parsing <span style=\"color: #808000; text-decoration-color: #808000\">league</span>=<span style=\"color: #800080; text-decoration-color: #800080\">F1</span> <span style=\"color: #808000; text-decoration-color: #808000\">season</span>=<span style=\"color: #008080; text-decoration-color: #008080; font-weight: bold\">2021</span>                                      <span style=\"color: #7f7f7f; text-decoration-color: #7f7f7f\">match_history.py:17</span>\n",
       "</pre>\n"
      ],
      "text/plain": [
       "\u001b[2;36m                   \u001b[0m\u001b[2;36m \u001b[0m\u001b[34mINFO    \u001b[0m Parsing \u001b[33mleague\u001b[0m=\u001b[35mF1\u001b[0m \u001b[33mseason\u001b[0m=\u001b[1;36m2021\u001b[0m                                      \u001b[2mmatch_history.py\u001b[0m\u001b[2m:\u001b[0m\u001b[2m17\u001b[0m\n"
      ]
     },
     "metadata": {},
     "output_type": "display_data"
    },
    {
     "data": {
      "text/html": [
       "<pre style=\"white-space:pre;overflow-x:auto;line-height:normal;font-family:Menlo,'DejaVu Sans Mono',consolas,'Courier New',monospace\"><span style=\"color: #7fbfbf; text-decoration-color: #7fbfbf\">                    </span><span style=\"color: #000080; text-decoration-color: #000080\">INFO    </span> Parsing <span style=\"color: #808000; text-decoration-color: #808000\">league</span>=<span style=\"color: #800080; text-decoration-color: #800080\">F1</span> <span style=\"color: #808000; text-decoration-color: #808000\">season</span>=<span style=\"color: #008080; text-decoration-color: #008080; font-weight: bold\">2223</span>                                      <span style=\"color: #7f7f7f; text-decoration-color: #7f7f7f\">match_history.py:17</span>\n",
       "</pre>\n"
      ],
      "text/plain": [
       "\u001b[2;36m                   \u001b[0m\u001b[2;36m \u001b[0m\u001b[34mINFO    \u001b[0m Parsing \u001b[33mleague\u001b[0m=\u001b[35mF1\u001b[0m \u001b[33mseason\u001b[0m=\u001b[1;36m2223\u001b[0m                                      \u001b[2mmatch_history.py\u001b[0m\u001b[2m:\u001b[0m\u001b[2m17\u001b[0m\n"
      ]
     },
     "metadata": {},
     "output_type": "display_data"
    },
    {
     "data": {
      "text/html": [
       "<pre style=\"white-space:pre;overflow-x:auto;line-height:normal;font-family:Menlo,'DejaVu Sans Mono',consolas,'Courier New',monospace\"><span style=\"color: #7fbfbf; text-decoration-color: #7fbfbf\">                    </span><span style=\"color: #000080; text-decoration-color: #000080\">INFO    </span> Parsing <span style=\"color: #808000; text-decoration-color: #808000\">league</span>=<span style=\"color: #800080; text-decoration-color: #800080\">F1</span> <span style=\"color: #808000; text-decoration-color: #808000\">season</span>=<span style=\"color: #008080; text-decoration-color: #008080; font-weight: bold\">2324</span>                                      <span style=\"color: #7f7f7f; text-decoration-color: #7f7f7f\">match_history.py:17</span>\n",
       "</pre>\n"
      ],
      "text/plain": [
       "\u001b[2;36m                   \u001b[0m\u001b[2;36m \u001b[0m\u001b[34mINFO    \u001b[0m Parsing \u001b[33mleague\u001b[0m=\u001b[35mF1\u001b[0m \u001b[33mseason\u001b[0m=\u001b[1;36m2324\u001b[0m                                      \u001b[2mmatch_history.py\u001b[0m\u001b[2m:\u001b[0m\u001b[2m17\u001b[0m\n"
      ]
     },
     "metadata": {},
     "output_type": "display_data"
    },
    {
     "data": {
      "text/html": [
       "<pre style=\"white-space:pre;overflow-x:auto;line-height:normal;font-family:Menlo,'DejaVu Sans Mono',consolas,'Courier New',monospace\"><span style=\"color: #7fbfbf; text-decoration-color: #7fbfbf\">[05/01/25 16:45:49] </span><span style=\"color: #000080; text-decoration-color: #000080\">INFO    </span> Parsing <span style=\"color: #808000; text-decoration-color: #808000\">league</span>=<span style=\"color: #800080; text-decoration-color: #800080\">F1</span> <span style=\"color: #808000; text-decoration-color: #808000\">season</span>=<span style=\"color: #008080; text-decoration-color: #008080; font-weight: bold\">2425</span>                                      <span style=\"color: #7f7f7f; text-decoration-color: #7f7f7f\">match_history.py:17</span>\n",
       "</pre>\n"
      ],
      "text/plain": [
       "\u001b[2;36m[05/01/25 16:45:49]\u001b[0m\u001b[2;36m \u001b[0m\u001b[34mINFO    \u001b[0m Parsing \u001b[33mleague\u001b[0m=\u001b[35mF1\u001b[0m \u001b[33mseason\u001b[0m=\u001b[1;36m2425\u001b[0m                                      \u001b[2mmatch_history.py\u001b[0m\u001b[2m:\u001b[0m\u001b[2m17\u001b[0m\n"
      ]
     },
     "metadata": {},
     "output_type": "display_data"
    },
    {
     "data": {
      "text/html": [
       "<pre style=\"white-space:pre;overflow-x:auto;line-height:normal;font-family:Menlo,'DejaVu Sans Mono',consolas,'Courier New',monospace\"><span style=\"color: #7fbfbf; text-decoration-color: #7fbfbf\">                    </span><span style=\"color: #000080; text-decoration-color: #000080\">INFO    </span> Parsing <span style=\"color: #808000; text-decoration-color: #808000\">league</span>=<span style=\"color: #800080; text-decoration-color: #800080\">D1</span> <span style=\"color: #808000; text-decoration-color: #808000\">season</span>=<span style=\"color: #008080; text-decoration-color: #008080; font-weight: bold\">0506</span>                                      <span style=\"color: #7f7f7f; text-decoration-color: #7f7f7f\">match_history.py:17</span>\n",
       "</pre>\n"
      ],
      "text/plain": [
       "\u001b[2;36m                   \u001b[0m\u001b[2;36m \u001b[0m\u001b[34mINFO    \u001b[0m Parsing \u001b[33mleague\u001b[0m=\u001b[35mD1\u001b[0m \u001b[33mseason\u001b[0m=\u001b[1;36m0506\u001b[0m                                      \u001b[2mmatch_history.py\u001b[0m\u001b[2m:\u001b[0m\u001b[2m17\u001b[0m\n"
      ]
     },
     "metadata": {},
     "output_type": "display_data"
    },
    {
     "data": {
      "text/html": [
       "<pre style=\"white-space:pre;overflow-x:auto;line-height:normal;font-family:Menlo,'DejaVu Sans Mono',consolas,'Courier New',monospace\"><span style=\"color: #7fbfbf; text-decoration-color: #7fbfbf\">                    </span><span style=\"color: #000080; text-decoration-color: #000080\">INFO    </span> Parsing <span style=\"color: #808000; text-decoration-color: #808000\">league</span>=<span style=\"color: #800080; text-decoration-color: #800080\">D1</span> <span style=\"color: #808000; text-decoration-color: #808000\">season</span>=<span style=\"color: #008080; text-decoration-color: #008080; font-weight: bold\">0607</span>                                      <span style=\"color: #7f7f7f; text-decoration-color: #7f7f7f\">match_history.py:17</span>\n",
       "</pre>\n"
      ],
      "text/plain": [
       "\u001b[2;36m                   \u001b[0m\u001b[2;36m \u001b[0m\u001b[34mINFO    \u001b[0m Parsing \u001b[33mleague\u001b[0m=\u001b[35mD1\u001b[0m \u001b[33mseason\u001b[0m=\u001b[1;36m0607\u001b[0m                                      \u001b[2mmatch_history.py\u001b[0m\u001b[2m:\u001b[0m\u001b[2m17\u001b[0m\n"
      ]
     },
     "metadata": {},
     "output_type": "display_data"
    },
    {
     "data": {
      "text/html": [
       "<pre style=\"white-space:pre;overflow-x:auto;line-height:normal;font-family:Menlo,'DejaVu Sans Mono',consolas,'Courier New',monospace\"><span style=\"color: #7fbfbf; text-decoration-color: #7fbfbf\">                    </span><span style=\"color: #000080; text-decoration-color: #000080\">INFO    </span> Parsing <span style=\"color: #808000; text-decoration-color: #808000\">league</span>=<span style=\"color: #800080; text-decoration-color: #800080\">D1</span> <span style=\"color: #808000; text-decoration-color: #808000\">season</span>=<span style=\"color: #008080; text-decoration-color: #008080; font-weight: bold\">0708</span>                                      <span style=\"color: #7f7f7f; text-decoration-color: #7f7f7f\">match_history.py:17</span>\n",
       "</pre>\n"
      ],
      "text/plain": [
       "\u001b[2;36m                   \u001b[0m\u001b[2;36m \u001b[0m\u001b[34mINFO    \u001b[0m Parsing \u001b[33mleague\u001b[0m=\u001b[35mD1\u001b[0m \u001b[33mseason\u001b[0m=\u001b[1;36m0708\u001b[0m                                      \u001b[2mmatch_history.py\u001b[0m\u001b[2m:\u001b[0m\u001b[2m17\u001b[0m\n"
      ]
     },
     "metadata": {},
     "output_type": "display_data"
    },
    {
     "data": {
      "text/html": [
       "<pre style=\"white-space:pre;overflow-x:auto;line-height:normal;font-family:Menlo,'DejaVu Sans Mono',consolas,'Courier New',monospace\"><span style=\"color: #7fbfbf; text-decoration-color: #7fbfbf\">                    </span><span style=\"color: #000080; text-decoration-color: #000080\">INFO    </span> Parsing <span style=\"color: #808000; text-decoration-color: #808000\">league</span>=<span style=\"color: #800080; text-decoration-color: #800080\">D1</span> <span style=\"color: #808000; text-decoration-color: #808000\">season</span>=<span style=\"color: #008080; text-decoration-color: #008080; font-weight: bold\">0809</span>                                      <span style=\"color: #7f7f7f; text-decoration-color: #7f7f7f\">match_history.py:17</span>\n",
       "</pre>\n"
      ],
      "text/plain": [
       "\u001b[2;36m                   \u001b[0m\u001b[2;36m \u001b[0m\u001b[34mINFO    \u001b[0m Parsing \u001b[33mleague\u001b[0m=\u001b[35mD1\u001b[0m \u001b[33mseason\u001b[0m=\u001b[1;36m0809\u001b[0m                                      \u001b[2mmatch_history.py\u001b[0m\u001b[2m:\u001b[0m\u001b[2m17\u001b[0m\n"
      ]
     },
     "metadata": {},
     "output_type": "display_data"
    },
    {
     "data": {
      "text/html": [
       "<pre style=\"white-space:pre;overflow-x:auto;line-height:normal;font-family:Menlo,'DejaVu Sans Mono',consolas,'Courier New',monospace\"><span style=\"color: #7fbfbf; text-decoration-color: #7fbfbf\">                    </span><span style=\"color: #000080; text-decoration-color: #000080\">INFO    </span> Parsing <span style=\"color: #808000; text-decoration-color: #808000\">league</span>=<span style=\"color: #800080; text-decoration-color: #800080\">D1</span> <span style=\"color: #808000; text-decoration-color: #808000\">season</span>=<span style=\"color: #008080; text-decoration-color: #008080; font-weight: bold\">0910</span>                                      <span style=\"color: #7f7f7f; text-decoration-color: #7f7f7f\">match_history.py:17</span>\n",
       "</pre>\n"
      ],
      "text/plain": [
       "\u001b[2;36m                   \u001b[0m\u001b[2;36m \u001b[0m\u001b[34mINFO    \u001b[0m Parsing \u001b[33mleague\u001b[0m=\u001b[35mD1\u001b[0m \u001b[33mseason\u001b[0m=\u001b[1;36m0910\u001b[0m                                      \u001b[2mmatch_history.py\u001b[0m\u001b[2m:\u001b[0m\u001b[2m17\u001b[0m\n"
      ]
     },
     "metadata": {},
     "output_type": "display_data"
    },
    {
     "data": {
      "text/html": [
       "<pre style=\"white-space:pre;overflow-x:auto;line-height:normal;font-family:Menlo,'DejaVu Sans Mono',consolas,'Courier New',monospace\"><span style=\"color: #7fbfbf; text-decoration-color: #7fbfbf\">                    </span><span style=\"color: #000080; text-decoration-color: #000080\">INFO    </span> Parsing <span style=\"color: #808000; text-decoration-color: #808000\">league</span>=<span style=\"color: #800080; text-decoration-color: #800080\">D1</span> <span style=\"color: #808000; text-decoration-color: #808000\">season</span>=<span style=\"color: #008080; text-decoration-color: #008080; font-weight: bold\">1011</span>                                      <span style=\"color: #7f7f7f; text-decoration-color: #7f7f7f\">match_history.py:17</span>\n",
       "</pre>\n"
      ],
      "text/plain": [
       "\u001b[2;36m                   \u001b[0m\u001b[2;36m \u001b[0m\u001b[34mINFO    \u001b[0m Parsing \u001b[33mleague\u001b[0m=\u001b[35mD1\u001b[0m \u001b[33mseason\u001b[0m=\u001b[1;36m1011\u001b[0m                                      \u001b[2mmatch_history.py\u001b[0m\u001b[2m:\u001b[0m\u001b[2m17\u001b[0m\n"
      ]
     },
     "metadata": {},
     "output_type": "display_data"
    },
    {
     "data": {
      "text/html": [
       "<pre style=\"white-space:pre;overflow-x:auto;line-height:normal;font-family:Menlo,'DejaVu Sans Mono',consolas,'Courier New',monospace\"><span style=\"color: #7fbfbf; text-decoration-color: #7fbfbf\">                    </span><span style=\"color: #000080; text-decoration-color: #000080\">INFO    </span> Parsing <span style=\"color: #808000; text-decoration-color: #808000\">league</span>=<span style=\"color: #800080; text-decoration-color: #800080\">D1</span> <span style=\"color: #808000; text-decoration-color: #808000\">season</span>=<span style=\"color: #008080; text-decoration-color: #008080; font-weight: bold\">1112</span>                                      <span style=\"color: #7f7f7f; text-decoration-color: #7f7f7f\">match_history.py:17</span>\n",
       "</pre>\n"
      ],
      "text/plain": [
       "\u001b[2;36m                   \u001b[0m\u001b[2;36m \u001b[0m\u001b[34mINFO    \u001b[0m Parsing \u001b[33mleague\u001b[0m=\u001b[35mD1\u001b[0m \u001b[33mseason\u001b[0m=\u001b[1;36m1112\u001b[0m                                      \u001b[2mmatch_history.py\u001b[0m\u001b[2m:\u001b[0m\u001b[2m17\u001b[0m\n"
      ]
     },
     "metadata": {},
     "output_type": "display_data"
    },
    {
     "data": {
      "text/html": [
       "<pre style=\"white-space:pre;overflow-x:auto;line-height:normal;font-family:Menlo,'DejaVu Sans Mono',consolas,'Courier New',monospace\"><span style=\"color: #7fbfbf; text-decoration-color: #7fbfbf\">                    </span><span style=\"color: #000080; text-decoration-color: #000080\">INFO    </span> Parsing <span style=\"color: #808000; text-decoration-color: #808000\">league</span>=<span style=\"color: #800080; text-decoration-color: #800080\">D1</span> <span style=\"color: #808000; text-decoration-color: #808000\">season</span>=<span style=\"color: #008080; text-decoration-color: #008080; font-weight: bold\">1213</span>                                      <span style=\"color: #7f7f7f; text-decoration-color: #7f7f7f\">match_history.py:17</span>\n",
       "</pre>\n"
      ],
      "text/plain": [
       "\u001b[2;36m                   \u001b[0m\u001b[2;36m \u001b[0m\u001b[34mINFO    \u001b[0m Parsing \u001b[33mleague\u001b[0m=\u001b[35mD1\u001b[0m \u001b[33mseason\u001b[0m=\u001b[1;36m1213\u001b[0m                                      \u001b[2mmatch_history.py\u001b[0m\u001b[2m:\u001b[0m\u001b[2m17\u001b[0m\n"
      ]
     },
     "metadata": {},
     "output_type": "display_data"
    },
    {
     "data": {
      "text/html": [
       "<pre style=\"white-space:pre;overflow-x:auto;line-height:normal;font-family:Menlo,'DejaVu Sans Mono',consolas,'Courier New',monospace\"><span style=\"color: #7fbfbf; text-decoration-color: #7fbfbf\">                    </span><span style=\"color: #000080; text-decoration-color: #000080\">INFO    </span> Parsing <span style=\"color: #808000; text-decoration-color: #808000\">league</span>=<span style=\"color: #800080; text-decoration-color: #800080\">D1</span> <span style=\"color: #808000; text-decoration-color: #808000\">season</span>=<span style=\"color: #008080; text-decoration-color: #008080; font-weight: bold\">1314</span>                                      <span style=\"color: #7f7f7f; text-decoration-color: #7f7f7f\">match_history.py:17</span>\n",
       "</pre>\n"
      ],
      "text/plain": [
       "\u001b[2;36m                   \u001b[0m\u001b[2;36m \u001b[0m\u001b[34mINFO    \u001b[0m Parsing \u001b[33mleague\u001b[0m=\u001b[35mD1\u001b[0m \u001b[33mseason\u001b[0m=\u001b[1;36m1314\u001b[0m                                      \u001b[2mmatch_history.py\u001b[0m\u001b[2m:\u001b[0m\u001b[2m17\u001b[0m\n"
      ]
     },
     "metadata": {},
     "output_type": "display_data"
    },
    {
     "data": {
      "text/html": [
       "<pre style=\"white-space:pre;overflow-x:auto;line-height:normal;font-family:Menlo,'DejaVu Sans Mono',consolas,'Courier New',monospace\"><span style=\"color: #7fbfbf; text-decoration-color: #7fbfbf\">                    </span><span style=\"color: #000080; text-decoration-color: #000080\">INFO    </span> Parsing <span style=\"color: #808000; text-decoration-color: #808000\">league</span>=<span style=\"color: #800080; text-decoration-color: #800080\">D1</span> <span style=\"color: #808000; text-decoration-color: #808000\">season</span>=<span style=\"color: #008080; text-decoration-color: #008080; font-weight: bold\">1415</span>                                      <span style=\"color: #7f7f7f; text-decoration-color: #7f7f7f\">match_history.py:17</span>\n",
       "</pre>\n"
      ],
      "text/plain": [
       "\u001b[2;36m                   \u001b[0m\u001b[2;36m \u001b[0m\u001b[34mINFO    \u001b[0m Parsing \u001b[33mleague\u001b[0m=\u001b[35mD1\u001b[0m \u001b[33mseason\u001b[0m=\u001b[1;36m1415\u001b[0m                                      \u001b[2mmatch_history.py\u001b[0m\u001b[2m:\u001b[0m\u001b[2m17\u001b[0m\n"
      ]
     },
     "metadata": {},
     "output_type": "display_data"
    },
    {
     "data": {
      "text/html": [
       "<pre style=\"white-space:pre;overflow-x:auto;line-height:normal;font-family:Menlo,'DejaVu Sans Mono',consolas,'Courier New',monospace\"><span style=\"color: #7fbfbf; text-decoration-color: #7fbfbf\">                    </span><span style=\"color: #000080; text-decoration-color: #000080\">INFO    </span> Parsing <span style=\"color: #808000; text-decoration-color: #808000\">league</span>=<span style=\"color: #800080; text-decoration-color: #800080\">D1</span> <span style=\"color: #808000; text-decoration-color: #808000\">season</span>=<span style=\"color: #008080; text-decoration-color: #008080; font-weight: bold\">1516</span>                                      <span style=\"color: #7f7f7f; text-decoration-color: #7f7f7f\">match_history.py:17</span>\n",
       "</pre>\n"
      ],
      "text/plain": [
       "\u001b[2;36m                   \u001b[0m\u001b[2;36m \u001b[0m\u001b[34mINFO    \u001b[0m Parsing \u001b[33mleague\u001b[0m=\u001b[35mD1\u001b[0m \u001b[33mseason\u001b[0m=\u001b[1;36m1516\u001b[0m                                      \u001b[2mmatch_history.py\u001b[0m\u001b[2m:\u001b[0m\u001b[2m17\u001b[0m\n"
      ]
     },
     "metadata": {},
     "output_type": "display_data"
    },
    {
     "data": {
      "text/html": [
       "<pre style=\"white-space:pre;overflow-x:auto;line-height:normal;font-family:Menlo,'DejaVu Sans Mono',consolas,'Courier New',monospace\"><span style=\"color: #7fbfbf; text-decoration-color: #7fbfbf\">                    </span><span style=\"color: #000080; text-decoration-color: #000080\">INFO    </span> Parsing <span style=\"color: #808000; text-decoration-color: #808000\">league</span>=<span style=\"color: #800080; text-decoration-color: #800080\">D1</span> <span style=\"color: #808000; text-decoration-color: #808000\">season</span>=<span style=\"color: #008080; text-decoration-color: #008080; font-weight: bold\">1617</span>                                      <span style=\"color: #7f7f7f; text-decoration-color: #7f7f7f\">match_history.py:17</span>\n",
       "</pre>\n"
      ],
      "text/plain": [
       "\u001b[2;36m                   \u001b[0m\u001b[2;36m \u001b[0m\u001b[34mINFO    \u001b[0m Parsing \u001b[33mleague\u001b[0m=\u001b[35mD1\u001b[0m \u001b[33mseason\u001b[0m=\u001b[1;36m1617\u001b[0m                                      \u001b[2mmatch_history.py\u001b[0m\u001b[2m:\u001b[0m\u001b[2m17\u001b[0m\n"
      ]
     },
     "metadata": {},
     "output_type": "display_data"
    },
    {
     "data": {
      "text/html": [
       "<pre style=\"white-space:pre;overflow-x:auto;line-height:normal;font-family:Menlo,'DejaVu Sans Mono',consolas,'Courier New',monospace\"><span style=\"color: #7fbfbf; text-decoration-color: #7fbfbf\">                    </span><span style=\"color: #000080; text-decoration-color: #000080\">INFO    </span> Parsing <span style=\"color: #808000; text-decoration-color: #808000\">league</span>=<span style=\"color: #800080; text-decoration-color: #800080\">D1</span> <span style=\"color: #808000; text-decoration-color: #808000\">season</span>=<span style=\"color: #008080; text-decoration-color: #008080; font-weight: bold\">1718</span>                                      <span style=\"color: #7f7f7f; text-decoration-color: #7f7f7f\">match_history.py:17</span>\n",
       "</pre>\n"
      ],
      "text/plain": [
       "\u001b[2;36m                   \u001b[0m\u001b[2;36m \u001b[0m\u001b[34mINFO    \u001b[0m Parsing \u001b[33mleague\u001b[0m=\u001b[35mD1\u001b[0m \u001b[33mseason\u001b[0m=\u001b[1;36m1718\u001b[0m                                      \u001b[2mmatch_history.py\u001b[0m\u001b[2m:\u001b[0m\u001b[2m17\u001b[0m\n"
      ]
     },
     "metadata": {},
     "output_type": "display_data"
    },
    {
     "data": {
      "text/html": [
       "<pre style=\"white-space:pre;overflow-x:auto;line-height:normal;font-family:Menlo,'DejaVu Sans Mono',consolas,'Courier New',monospace\"><span style=\"color: #7fbfbf; text-decoration-color: #7fbfbf\">                    </span><span style=\"color: #000080; text-decoration-color: #000080\">INFO    </span> Parsing <span style=\"color: #808000; text-decoration-color: #808000\">league</span>=<span style=\"color: #800080; text-decoration-color: #800080\">D1</span> <span style=\"color: #808000; text-decoration-color: #808000\">season</span>=<span style=\"color: #008080; text-decoration-color: #008080; font-weight: bold\">1819</span>                                      <span style=\"color: #7f7f7f; text-decoration-color: #7f7f7f\">match_history.py:17</span>\n",
       "</pre>\n"
      ],
      "text/plain": [
       "\u001b[2;36m                   \u001b[0m\u001b[2;36m \u001b[0m\u001b[34mINFO    \u001b[0m Parsing \u001b[33mleague\u001b[0m=\u001b[35mD1\u001b[0m \u001b[33mseason\u001b[0m=\u001b[1;36m1819\u001b[0m                                      \u001b[2mmatch_history.py\u001b[0m\u001b[2m:\u001b[0m\u001b[2m17\u001b[0m\n"
      ]
     },
     "metadata": {},
     "output_type": "display_data"
    },
    {
     "data": {
      "text/html": [
       "<pre style=\"white-space:pre;overflow-x:auto;line-height:normal;font-family:Menlo,'DejaVu Sans Mono',consolas,'Courier New',monospace\"><span style=\"color: #7fbfbf; text-decoration-color: #7fbfbf\">                    </span><span style=\"color: #000080; text-decoration-color: #000080\">INFO    </span> Parsing <span style=\"color: #808000; text-decoration-color: #808000\">league</span>=<span style=\"color: #800080; text-decoration-color: #800080\">D1</span> <span style=\"color: #808000; text-decoration-color: #808000\">season</span>=<span style=\"color: #008080; text-decoration-color: #008080; font-weight: bold\">1920</span>                                      <span style=\"color: #7f7f7f; text-decoration-color: #7f7f7f\">match_history.py:17</span>\n",
       "</pre>\n"
      ],
      "text/plain": [
       "\u001b[2;36m                   \u001b[0m\u001b[2;36m \u001b[0m\u001b[34mINFO    \u001b[0m Parsing \u001b[33mleague\u001b[0m=\u001b[35mD1\u001b[0m \u001b[33mseason\u001b[0m=\u001b[1;36m1920\u001b[0m                                      \u001b[2mmatch_history.py\u001b[0m\u001b[2m:\u001b[0m\u001b[2m17\u001b[0m\n"
      ]
     },
     "metadata": {},
     "output_type": "display_data"
    },
    {
     "data": {
      "text/html": [
       "<pre style=\"white-space:pre;overflow-x:auto;line-height:normal;font-family:Menlo,'DejaVu Sans Mono',consolas,'Courier New',monospace\"><span style=\"color: #7fbfbf; text-decoration-color: #7fbfbf\">                    </span><span style=\"color: #000080; text-decoration-color: #000080\">INFO    </span> Parsing <span style=\"color: #808000; text-decoration-color: #808000\">league</span>=<span style=\"color: #800080; text-decoration-color: #800080\">D1</span> <span style=\"color: #808000; text-decoration-color: #808000\">season</span>=<span style=\"color: #008080; text-decoration-color: #008080; font-weight: bold\">2021</span>                                      <span style=\"color: #7f7f7f; text-decoration-color: #7f7f7f\">match_history.py:17</span>\n",
       "</pre>\n"
      ],
      "text/plain": [
       "\u001b[2;36m                   \u001b[0m\u001b[2;36m \u001b[0m\u001b[34mINFO    \u001b[0m Parsing \u001b[33mleague\u001b[0m=\u001b[35mD1\u001b[0m \u001b[33mseason\u001b[0m=\u001b[1;36m2021\u001b[0m                                      \u001b[2mmatch_history.py\u001b[0m\u001b[2m:\u001b[0m\u001b[2m17\u001b[0m\n"
      ]
     },
     "metadata": {},
     "output_type": "display_data"
    },
    {
     "data": {
      "text/html": [
       "<pre style=\"white-space:pre;overflow-x:auto;line-height:normal;font-family:Menlo,'DejaVu Sans Mono',consolas,'Courier New',monospace\"><span style=\"color: #7fbfbf; text-decoration-color: #7fbfbf\">                    </span><span style=\"color: #000080; text-decoration-color: #000080\">INFO    </span> Parsing <span style=\"color: #808000; text-decoration-color: #808000\">league</span>=<span style=\"color: #800080; text-decoration-color: #800080\">D1</span> <span style=\"color: #808000; text-decoration-color: #808000\">season</span>=<span style=\"color: #008080; text-decoration-color: #008080; font-weight: bold\">2021</span>                                      <span style=\"color: #7f7f7f; text-decoration-color: #7f7f7f\">match_history.py:17</span>\n",
       "</pre>\n"
      ],
      "text/plain": [
       "\u001b[2;36m                   \u001b[0m\u001b[2;36m \u001b[0m\u001b[34mINFO    \u001b[0m Parsing \u001b[33mleague\u001b[0m=\u001b[35mD1\u001b[0m \u001b[33mseason\u001b[0m=\u001b[1;36m2021\u001b[0m                                      \u001b[2mmatch_history.py\u001b[0m\u001b[2m:\u001b[0m\u001b[2m17\u001b[0m\n"
      ]
     },
     "metadata": {},
     "output_type": "display_data"
    },
    {
     "data": {
      "text/html": [
       "<pre style=\"white-space:pre;overflow-x:auto;line-height:normal;font-family:Menlo,'DejaVu Sans Mono',consolas,'Courier New',monospace\"><span style=\"color: #7fbfbf; text-decoration-color: #7fbfbf\">                    </span><span style=\"color: #000080; text-decoration-color: #000080\">INFO    </span> Parsing <span style=\"color: #808000; text-decoration-color: #808000\">league</span>=<span style=\"color: #800080; text-decoration-color: #800080\">D1</span> <span style=\"color: #808000; text-decoration-color: #808000\">season</span>=<span style=\"color: #008080; text-decoration-color: #008080; font-weight: bold\">2223</span>                                      <span style=\"color: #7f7f7f; text-decoration-color: #7f7f7f\">match_history.py:17</span>\n",
       "</pre>\n"
      ],
      "text/plain": [
       "\u001b[2;36m                   \u001b[0m\u001b[2;36m \u001b[0m\u001b[34mINFO    \u001b[0m Parsing \u001b[33mleague\u001b[0m=\u001b[35mD1\u001b[0m \u001b[33mseason\u001b[0m=\u001b[1;36m2223\u001b[0m                                      \u001b[2mmatch_history.py\u001b[0m\u001b[2m:\u001b[0m\u001b[2m17\u001b[0m\n"
      ]
     },
     "metadata": {},
     "output_type": "display_data"
    },
    {
     "data": {
      "text/html": [
       "<pre style=\"white-space:pre;overflow-x:auto;line-height:normal;font-family:Menlo,'DejaVu Sans Mono',consolas,'Courier New',monospace\"><span style=\"color: #7fbfbf; text-decoration-color: #7fbfbf\">                    </span><span style=\"color: #000080; text-decoration-color: #000080\">INFO    </span> Parsing <span style=\"color: #808000; text-decoration-color: #808000\">league</span>=<span style=\"color: #800080; text-decoration-color: #800080\">D1</span> <span style=\"color: #808000; text-decoration-color: #808000\">season</span>=<span style=\"color: #008080; text-decoration-color: #008080; font-weight: bold\">2324</span>                                      <span style=\"color: #7f7f7f; text-decoration-color: #7f7f7f\">match_history.py:17</span>\n",
       "</pre>\n"
      ],
      "text/plain": [
       "\u001b[2;36m                   \u001b[0m\u001b[2;36m \u001b[0m\u001b[34mINFO    \u001b[0m Parsing \u001b[33mleague\u001b[0m=\u001b[35mD1\u001b[0m \u001b[33mseason\u001b[0m=\u001b[1;36m2324\u001b[0m                                      \u001b[2mmatch_history.py\u001b[0m\u001b[2m:\u001b[0m\u001b[2m17\u001b[0m\n"
      ]
     },
     "metadata": {},
     "output_type": "display_data"
    },
    {
     "data": {
      "text/html": [
       "<pre style=\"white-space:pre;overflow-x:auto;line-height:normal;font-family:Menlo,'DejaVu Sans Mono',consolas,'Courier New',monospace\"><span style=\"color: #7fbfbf; text-decoration-color: #7fbfbf\">                    </span><span style=\"color: #000080; text-decoration-color: #000080\">INFO    </span> Parsing <span style=\"color: #808000; text-decoration-color: #808000\">league</span>=<span style=\"color: #800080; text-decoration-color: #800080\">D1</span> <span style=\"color: #808000; text-decoration-color: #808000\">season</span>=<span style=\"color: #008080; text-decoration-color: #008080; font-weight: bold\">2425</span>                                      <span style=\"color: #7f7f7f; text-decoration-color: #7f7f7f\">match_history.py:17</span>\n",
       "</pre>\n"
      ],
      "text/plain": [
       "\u001b[2;36m                   \u001b[0m\u001b[2;36m \u001b[0m\u001b[34mINFO    \u001b[0m Parsing \u001b[33mleague\u001b[0m=\u001b[35mD1\u001b[0m \u001b[33mseason\u001b[0m=\u001b[1;36m2425\u001b[0m                                      \u001b[2mmatch_history.py\u001b[0m\u001b[2m:\u001b[0m\u001b[2m17\u001b[0m\n"
      ]
     },
     "metadata": {},
     "output_type": "display_data"
    },
    {
     "data": {
      "text/html": [
       "<pre style=\"white-space:pre;overflow-x:auto;line-height:normal;font-family:Menlo,'DejaVu Sans Mono',consolas,'Courier New',monospace\"><span style=\"color: #7fbfbf; text-decoration-color: #7fbfbf\">                    </span><span style=\"color: #000080; text-decoration-color: #000080\">INFO    </span> Parsing <span style=\"color: #808000; text-decoration-color: #808000\">league</span>=<span style=\"color: #800080; text-decoration-color: #800080\">I1</span> <span style=\"color: #808000; text-decoration-color: #808000\">season</span>=<span style=\"color: #008080; text-decoration-color: #008080; font-weight: bold\">0506</span>                                      <span style=\"color: #7f7f7f; text-decoration-color: #7f7f7f\">match_history.py:17</span>\n",
       "</pre>\n"
      ],
      "text/plain": [
       "\u001b[2;36m                   \u001b[0m\u001b[2;36m \u001b[0m\u001b[34mINFO    \u001b[0m Parsing \u001b[33mleague\u001b[0m=\u001b[35mI1\u001b[0m \u001b[33mseason\u001b[0m=\u001b[1;36m0506\u001b[0m                                      \u001b[2mmatch_history.py\u001b[0m\u001b[2m:\u001b[0m\u001b[2m17\u001b[0m\n"
      ]
     },
     "metadata": {},
     "output_type": "display_data"
    },
    {
     "data": {
      "text/html": [
       "<pre style=\"white-space:pre;overflow-x:auto;line-height:normal;font-family:Menlo,'DejaVu Sans Mono',consolas,'Courier New',monospace\"><span style=\"color: #7fbfbf; text-decoration-color: #7fbfbf\">                    </span><span style=\"color: #000080; text-decoration-color: #000080\">INFO    </span> Parsing <span style=\"color: #808000; text-decoration-color: #808000\">league</span>=<span style=\"color: #800080; text-decoration-color: #800080\">I1</span> <span style=\"color: #808000; text-decoration-color: #808000\">season</span>=<span style=\"color: #008080; text-decoration-color: #008080; font-weight: bold\">0607</span>                                      <span style=\"color: #7f7f7f; text-decoration-color: #7f7f7f\">match_history.py:17</span>\n",
       "</pre>\n"
      ],
      "text/plain": [
       "\u001b[2;36m                   \u001b[0m\u001b[2;36m \u001b[0m\u001b[34mINFO    \u001b[0m Parsing \u001b[33mleague\u001b[0m=\u001b[35mI1\u001b[0m \u001b[33mseason\u001b[0m=\u001b[1;36m0607\u001b[0m                                      \u001b[2mmatch_history.py\u001b[0m\u001b[2m:\u001b[0m\u001b[2m17\u001b[0m\n"
      ]
     },
     "metadata": {},
     "output_type": "display_data"
    },
    {
     "data": {
      "text/html": [
       "<pre style=\"white-space:pre;overflow-x:auto;line-height:normal;font-family:Menlo,'DejaVu Sans Mono',consolas,'Courier New',monospace\"><span style=\"color: #7fbfbf; text-decoration-color: #7fbfbf\">                    </span><span style=\"color: #000080; text-decoration-color: #000080\">INFO    </span> Parsing <span style=\"color: #808000; text-decoration-color: #808000\">league</span>=<span style=\"color: #800080; text-decoration-color: #800080\">I1</span> <span style=\"color: #808000; text-decoration-color: #808000\">season</span>=<span style=\"color: #008080; text-decoration-color: #008080; font-weight: bold\">0708</span>                                      <span style=\"color: #7f7f7f; text-decoration-color: #7f7f7f\">match_history.py:17</span>\n",
       "</pre>\n"
      ],
      "text/plain": [
       "\u001b[2;36m                   \u001b[0m\u001b[2;36m \u001b[0m\u001b[34mINFO    \u001b[0m Parsing \u001b[33mleague\u001b[0m=\u001b[35mI1\u001b[0m \u001b[33mseason\u001b[0m=\u001b[1;36m0708\u001b[0m                                      \u001b[2mmatch_history.py\u001b[0m\u001b[2m:\u001b[0m\u001b[2m17\u001b[0m\n"
      ]
     },
     "metadata": {},
     "output_type": "display_data"
    },
    {
     "data": {
      "text/html": [
       "<pre style=\"white-space:pre;overflow-x:auto;line-height:normal;font-family:Menlo,'DejaVu Sans Mono',consolas,'Courier New',monospace\"><span style=\"color: #7fbfbf; text-decoration-color: #7fbfbf\">                    </span><span style=\"color: #000080; text-decoration-color: #000080\">INFO    </span> Parsing <span style=\"color: #808000; text-decoration-color: #808000\">league</span>=<span style=\"color: #800080; text-decoration-color: #800080\">I1</span> <span style=\"color: #808000; text-decoration-color: #808000\">season</span>=<span style=\"color: #008080; text-decoration-color: #008080; font-weight: bold\">0809</span>                                      <span style=\"color: #7f7f7f; text-decoration-color: #7f7f7f\">match_history.py:17</span>\n",
       "</pre>\n"
      ],
      "text/plain": [
       "\u001b[2;36m                   \u001b[0m\u001b[2;36m \u001b[0m\u001b[34mINFO    \u001b[0m Parsing \u001b[33mleague\u001b[0m=\u001b[35mI1\u001b[0m \u001b[33mseason\u001b[0m=\u001b[1;36m0809\u001b[0m                                      \u001b[2mmatch_history.py\u001b[0m\u001b[2m:\u001b[0m\u001b[2m17\u001b[0m\n"
      ]
     },
     "metadata": {},
     "output_type": "display_data"
    },
    {
     "data": {
      "text/html": [
       "<pre style=\"white-space:pre;overflow-x:auto;line-height:normal;font-family:Menlo,'DejaVu Sans Mono',consolas,'Courier New',monospace\"><span style=\"color: #7fbfbf; text-decoration-color: #7fbfbf\">                    </span><span style=\"color: #000080; text-decoration-color: #000080\">INFO    </span> Parsing <span style=\"color: #808000; text-decoration-color: #808000\">league</span>=<span style=\"color: #800080; text-decoration-color: #800080\">I1</span> <span style=\"color: #808000; text-decoration-color: #808000\">season</span>=<span style=\"color: #008080; text-decoration-color: #008080; font-weight: bold\">0910</span>                                      <span style=\"color: #7f7f7f; text-decoration-color: #7f7f7f\">match_history.py:17</span>\n",
       "</pre>\n"
      ],
      "text/plain": [
       "\u001b[2;36m                   \u001b[0m\u001b[2;36m \u001b[0m\u001b[34mINFO    \u001b[0m Parsing \u001b[33mleague\u001b[0m=\u001b[35mI1\u001b[0m \u001b[33mseason\u001b[0m=\u001b[1;36m0910\u001b[0m                                      \u001b[2mmatch_history.py\u001b[0m\u001b[2m:\u001b[0m\u001b[2m17\u001b[0m\n"
      ]
     },
     "metadata": {},
     "output_type": "display_data"
    },
    {
     "data": {
      "text/html": [
       "<pre style=\"white-space:pre;overflow-x:auto;line-height:normal;font-family:Menlo,'DejaVu Sans Mono',consolas,'Courier New',monospace\"><span style=\"color: #7fbfbf; text-decoration-color: #7fbfbf\">                    </span><span style=\"color: #000080; text-decoration-color: #000080\">INFO    </span> Parsing <span style=\"color: #808000; text-decoration-color: #808000\">league</span>=<span style=\"color: #800080; text-decoration-color: #800080\">I1</span> <span style=\"color: #808000; text-decoration-color: #808000\">season</span>=<span style=\"color: #008080; text-decoration-color: #008080; font-weight: bold\">1011</span>                                      <span style=\"color: #7f7f7f; text-decoration-color: #7f7f7f\">match_history.py:17</span>\n",
       "</pre>\n"
      ],
      "text/plain": [
       "\u001b[2;36m                   \u001b[0m\u001b[2;36m \u001b[0m\u001b[34mINFO    \u001b[0m Parsing \u001b[33mleague\u001b[0m=\u001b[35mI1\u001b[0m \u001b[33mseason\u001b[0m=\u001b[1;36m1011\u001b[0m                                      \u001b[2mmatch_history.py\u001b[0m\u001b[2m:\u001b[0m\u001b[2m17\u001b[0m\n"
      ]
     },
     "metadata": {},
     "output_type": "display_data"
    },
    {
     "data": {
      "text/html": [
       "<pre style=\"white-space:pre;overflow-x:auto;line-height:normal;font-family:Menlo,'DejaVu Sans Mono',consolas,'Courier New',monospace\"><span style=\"color: #7fbfbf; text-decoration-color: #7fbfbf\">[05/01/25 16:45:50] </span><span style=\"color: #000080; text-decoration-color: #000080\">INFO    </span> Parsing <span style=\"color: #808000; text-decoration-color: #808000\">league</span>=<span style=\"color: #800080; text-decoration-color: #800080\">I1</span> <span style=\"color: #808000; text-decoration-color: #808000\">season</span>=<span style=\"color: #008080; text-decoration-color: #008080; font-weight: bold\">1112</span>                                      <span style=\"color: #7f7f7f; text-decoration-color: #7f7f7f\">match_history.py:17</span>\n",
       "</pre>\n"
      ],
      "text/plain": [
       "\u001b[2;36m[05/01/25 16:45:50]\u001b[0m\u001b[2;36m \u001b[0m\u001b[34mINFO    \u001b[0m Parsing \u001b[33mleague\u001b[0m=\u001b[35mI1\u001b[0m \u001b[33mseason\u001b[0m=\u001b[1;36m1112\u001b[0m                                      \u001b[2mmatch_history.py\u001b[0m\u001b[2m:\u001b[0m\u001b[2m17\u001b[0m\n"
      ]
     },
     "metadata": {},
     "output_type": "display_data"
    },
    {
     "data": {
      "text/html": [
       "<pre style=\"white-space:pre;overflow-x:auto;line-height:normal;font-family:Menlo,'DejaVu Sans Mono',consolas,'Courier New',monospace\"><span style=\"color: #7fbfbf; text-decoration-color: #7fbfbf\">                    </span><span style=\"color: #000080; text-decoration-color: #000080\">INFO    </span> Parsing <span style=\"color: #808000; text-decoration-color: #808000\">league</span>=<span style=\"color: #800080; text-decoration-color: #800080\">I1</span> <span style=\"color: #808000; text-decoration-color: #808000\">season</span>=<span style=\"color: #008080; text-decoration-color: #008080; font-weight: bold\">1213</span>                                      <span style=\"color: #7f7f7f; text-decoration-color: #7f7f7f\">match_history.py:17</span>\n",
       "</pre>\n"
      ],
      "text/plain": [
       "\u001b[2;36m                   \u001b[0m\u001b[2;36m \u001b[0m\u001b[34mINFO    \u001b[0m Parsing \u001b[33mleague\u001b[0m=\u001b[35mI1\u001b[0m \u001b[33mseason\u001b[0m=\u001b[1;36m1213\u001b[0m                                      \u001b[2mmatch_history.py\u001b[0m\u001b[2m:\u001b[0m\u001b[2m17\u001b[0m\n"
      ]
     },
     "metadata": {},
     "output_type": "display_data"
    },
    {
     "data": {
      "text/html": [
       "<pre style=\"white-space:pre;overflow-x:auto;line-height:normal;font-family:Menlo,'DejaVu Sans Mono',consolas,'Courier New',monospace\"><span style=\"color: #7fbfbf; text-decoration-color: #7fbfbf\">                    </span><span style=\"color: #000080; text-decoration-color: #000080\">INFO    </span> Parsing <span style=\"color: #808000; text-decoration-color: #808000\">league</span>=<span style=\"color: #800080; text-decoration-color: #800080\">I1</span> <span style=\"color: #808000; text-decoration-color: #808000\">season</span>=<span style=\"color: #008080; text-decoration-color: #008080; font-weight: bold\">1314</span>                                      <span style=\"color: #7f7f7f; text-decoration-color: #7f7f7f\">match_history.py:17</span>\n",
       "</pre>\n"
      ],
      "text/plain": [
       "\u001b[2;36m                   \u001b[0m\u001b[2;36m \u001b[0m\u001b[34mINFO    \u001b[0m Parsing \u001b[33mleague\u001b[0m=\u001b[35mI1\u001b[0m \u001b[33mseason\u001b[0m=\u001b[1;36m1314\u001b[0m                                      \u001b[2mmatch_history.py\u001b[0m\u001b[2m:\u001b[0m\u001b[2m17\u001b[0m\n"
      ]
     },
     "metadata": {},
     "output_type": "display_data"
    },
    {
     "data": {
      "text/html": [
       "<pre style=\"white-space:pre;overflow-x:auto;line-height:normal;font-family:Menlo,'DejaVu Sans Mono',consolas,'Courier New',monospace\"><span style=\"color: #7fbfbf; text-decoration-color: #7fbfbf\">                    </span><span style=\"color: #000080; text-decoration-color: #000080\">INFO    </span> Parsing <span style=\"color: #808000; text-decoration-color: #808000\">league</span>=<span style=\"color: #800080; text-decoration-color: #800080\">I1</span> <span style=\"color: #808000; text-decoration-color: #808000\">season</span>=<span style=\"color: #008080; text-decoration-color: #008080; font-weight: bold\">1415</span>                                      <span style=\"color: #7f7f7f; text-decoration-color: #7f7f7f\">match_history.py:17</span>\n",
       "</pre>\n"
      ],
      "text/plain": [
       "\u001b[2;36m                   \u001b[0m\u001b[2;36m \u001b[0m\u001b[34mINFO    \u001b[0m Parsing \u001b[33mleague\u001b[0m=\u001b[35mI1\u001b[0m \u001b[33mseason\u001b[0m=\u001b[1;36m1415\u001b[0m                                      \u001b[2mmatch_history.py\u001b[0m\u001b[2m:\u001b[0m\u001b[2m17\u001b[0m\n"
      ]
     },
     "metadata": {},
     "output_type": "display_data"
    },
    {
     "data": {
      "text/html": [
       "<pre style=\"white-space:pre;overflow-x:auto;line-height:normal;font-family:Menlo,'DejaVu Sans Mono',consolas,'Courier New',monospace\"><span style=\"color: #7fbfbf; text-decoration-color: #7fbfbf\">                    </span><span style=\"color: #000080; text-decoration-color: #000080\">INFO    </span> Parsing <span style=\"color: #808000; text-decoration-color: #808000\">league</span>=<span style=\"color: #800080; text-decoration-color: #800080\">I1</span> <span style=\"color: #808000; text-decoration-color: #808000\">season</span>=<span style=\"color: #008080; text-decoration-color: #008080; font-weight: bold\">1516</span>                                      <span style=\"color: #7f7f7f; text-decoration-color: #7f7f7f\">match_history.py:17</span>\n",
       "</pre>\n"
      ],
      "text/plain": [
       "\u001b[2;36m                   \u001b[0m\u001b[2;36m \u001b[0m\u001b[34mINFO    \u001b[0m Parsing \u001b[33mleague\u001b[0m=\u001b[35mI1\u001b[0m \u001b[33mseason\u001b[0m=\u001b[1;36m1516\u001b[0m                                      \u001b[2mmatch_history.py\u001b[0m\u001b[2m:\u001b[0m\u001b[2m17\u001b[0m\n"
      ]
     },
     "metadata": {},
     "output_type": "display_data"
    },
    {
     "data": {
      "text/html": [
       "<pre style=\"white-space:pre;overflow-x:auto;line-height:normal;font-family:Menlo,'DejaVu Sans Mono',consolas,'Courier New',monospace\"><span style=\"color: #7fbfbf; text-decoration-color: #7fbfbf\">                    </span><span style=\"color: #000080; text-decoration-color: #000080\">INFO    </span> Parsing <span style=\"color: #808000; text-decoration-color: #808000\">league</span>=<span style=\"color: #800080; text-decoration-color: #800080\">I1</span> <span style=\"color: #808000; text-decoration-color: #808000\">season</span>=<span style=\"color: #008080; text-decoration-color: #008080; font-weight: bold\">1617</span>                                      <span style=\"color: #7f7f7f; text-decoration-color: #7f7f7f\">match_history.py:17</span>\n",
       "</pre>\n"
      ],
      "text/plain": [
       "\u001b[2;36m                   \u001b[0m\u001b[2;36m \u001b[0m\u001b[34mINFO    \u001b[0m Parsing \u001b[33mleague\u001b[0m=\u001b[35mI1\u001b[0m \u001b[33mseason\u001b[0m=\u001b[1;36m1617\u001b[0m                                      \u001b[2mmatch_history.py\u001b[0m\u001b[2m:\u001b[0m\u001b[2m17\u001b[0m\n"
      ]
     },
     "metadata": {},
     "output_type": "display_data"
    },
    {
     "data": {
      "text/html": [
       "<pre style=\"white-space:pre;overflow-x:auto;line-height:normal;font-family:Menlo,'DejaVu Sans Mono',consolas,'Courier New',monospace\"><span style=\"color: #7fbfbf; text-decoration-color: #7fbfbf\">                    </span><span style=\"color: #000080; text-decoration-color: #000080\">INFO    </span> Parsing <span style=\"color: #808000; text-decoration-color: #808000\">league</span>=<span style=\"color: #800080; text-decoration-color: #800080\">I1</span> <span style=\"color: #808000; text-decoration-color: #808000\">season</span>=<span style=\"color: #008080; text-decoration-color: #008080; font-weight: bold\">1718</span>                                      <span style=\"color: #7f7f7f; text-decoration-color: #7f7f7f\">match_history.py:17</span>\n",
       "</pre>\n"
      ],
      "text/plain": [
       "\u001b[2;36m                   \u001b[0m\u001b[2;36m \u001b[0m\u001b[34mINFO    \u001b[0m Parsing \u001b[33mleague\u001b[0m=\u001b[35mI1\u001b[0m \u001b[33mseason\u001b[0m=\u001b[1;36m1718\u001b[0m                                      \u001b[2mmatch_history.py\u001b[0m\u001b[2m:\u001b[0m\u001b[2m17\u001b[0m\n"
      ]
     },
     "metadata": {},
     "output_type": "display_data"
    },
    {
     "data": {
      "text/html": [
       "<pre style=\"white-space:pre;overflow-x:auto;line-height:normal;font-family:Menlo,'DejaVu Sans Mono',consolas,'Courier New',monospace\"><span style=\"color: #7fbfbf; text-decoration-color: #7fbfbf\">                    </span><span style=\"color: #000080; text-decoration-color: #000080\">INFO    </span> Parsing <span style=\"color: #808000; text-decoration-color: #808000\">league</span>=<span style=\"color: #800080; text-decoration-color: #800080\">I1</span> <span style=\"color: #808000; text-decoration-color: #808000\">season</span>=<span style=\"color: #008080; text-decoration-color: #008080; font-weight: bold\">1819</span>                                      <span style=\"color: #7f7f7f; text-decoration-color: #7f7f7f\">match_history.py:17</span>\n",
       "</pre>\n"
      ],
      "text/plain": [
       "\u001b[2;36m                   \u001b[0m\u001b[2;36m \u001b[0m\u001b[34mINFO    \u001b[0m Parsing \u001b[33mleague\u001b[0m=\u001b[35mI1\u001b[0m \u001b[33mseason\u001b[0m=\u001b[1;36m1819\u001b[0m                                      \u001b[2mmatch_history.py\u001b[0m\u001b[2m:\u001b[0m\u001b[2m17\u001b[0m\n"
      ]
     },
     "metadata": {},
     "output_type": "display_data"
    },
    {
     "data": {
      "text/html": [
       "<pre style=\"white-space:pre;overflow-x:auto;line-height:normal;font-family:Menlo,'DejaVu Sans Mono',consolas,'Courier New',monospace\"><span style=\"color: #7fbfbf; text-decoration-color: #7fbfbf\">                    </span><span style=\"color: #000080; text-decoration-color: #000080\">INFO    </span> Parsing <span style=\"color: #808000; text-decoration-color: #808000\">league</span>=<span style=\"color: #800080; text-decoration-color: #800080\">I1</span> <span style=\"color: #808000; text-decoration-color: #808000\">season</span>=<span style=\"color: #008080; text-decoration-color: #008080; font-weight: bold\">1920</span>                                      <span style=\"color: #7f7f7f; text-decoration-color: #7f7f7f\">match_history.py:17</span>\n",
       "</pre>\n"
      ],
      "text/plain": [
       "\u001b[2;36m                   \u001b[0m\u001b[2;36m \u001b[0m\u001b[34mINFO    \u001b[0m Parsing \u001b[33mleague\u001b[0m=\u001b[35mI1\u001b[0m \u001b[33mseason\u001b[0m=\u001b[1;36m1920\u001b[0m                                      \u001b[2mmatch_history.py\u001b[0m\u001b[2m:\u001b[0m\u001b[2m17\u001b[0m\n"
      ]
     },
     "metadata": {},
     "output_type": "display_data"
    },
    {
     "data": {
      "text/html": [
       "<pre style=\"white-space:pre;overflow-x:auto;line-height:normal;font-family:Menlo,'DejaVu Sans Mono',consolas,'Courier New',monospace\"><span style=\"color: #7fbfbf; text-decoration-color: #7fbfbf\">                    </span><span style=\"color: #000080; text-decoration-color: #000080\">INFO    </span> Parsing <span style=\"color: #808000; text-decoration-color: #808000\">league</span>=<span style=\"color: #800080; text-decoration-color: #800080\">I1</span> <span style=\"color: #808000; text-decoration-color: #808000\">season</span>=<span style=\"color: #008080; text-decoration-color: #008080; font-weight: bold\">2021</span>                                      <span style=\"color: #7f7f7f; text-decoration-color: #7f7f7f\">match_history.py:17</span>\n",
       "</pre>\n"
      ],
      "text/plain": [
       "\u001b[2;36m                   \u001b[0m\u001b[2;36m \u001b[0m\u001b[34mINFO    \u001b[0m Parsing \u001b[33mleague\u001b[0m=\u001b[35mI1\u001b[0m \u001b[33mseason\u001b[0m=\u001b[1;36m2021\u001b[0m                                      \u001b[2mmatch_history.py\u001b[0m\u001b[2m:\u001b[0m\u001b[2m17\u001b[0m\n"
      ]
     },
     "metadata": {},
     "output_type": "display_data"
    },
    {
     "data": {
      "text/html": [
       "<pre style=\"white-space:pre;overflow-x:auto;line-height:normal;font-family:Menlo,'DejaVu Sans Mono',consolas,'Courier New',monospace\"><span style=\"color: #7fbfbf; text-decoration-color: #7fbfbf\">                    </span><span style=\"color: #000080; text-decoration-color: #000080\">INFO    </span> Parsing <span style=\"color: #808000; text-decoration-color: #808000\">league</span>=<span style=\"color: #800080; text-decoration-color: #800080\">I1</span> <span style=\"color: #808000; text-decoration-color: #808000\">season</span>=<span style=\"color: #008080; text-decoration-color: #008080; font-weight: bold\">2021</span>                                      <span style=\"color: #7f7f7f; text-decoration-color: #7f7f7f\">match_history.py:17</span>\n",
       "</pre>\n"
      ],
      "text/plain": [
       "\u001b[2;36m                   \u001b[0m\u001b[2;36m \u001b[0m\u001b[34mINFO    \u001b[0m Parsing \u001b[33mleague\u001b[0m=\u001b[35mI1\u001b[0m \u001b[33mseason\u001b[0m=\u001b[1;36m2021\u001b[0m                                      \u001b[2mmatch_history.py\u001b[0m\u001b[2m:\u001b[0m\u001b[2m17\u001b[0m\n"
      ]
     },
     "metadata": {},
     "output_type": "display_data"
    },
    {
     "data": {
      "text/html": [
       "<pre style=\"white-space:pre;overflow-x:auto;line-height:normal;font-family:Menlo,'DejaVu Sans Mono',consolas,'Courier New',monospace\"><span style=\"color: #7fbfbf; text-decoration-color: #7fbfbf\">                    </span><span style=\"color: #000080; text-decoration-color: #000080\">INFO    </span> Parsing <span style=\"color: #808000; text-decoration-color: #808000\">league</span>=<span style=\"color: #800080; text-decoration-color: #800080\">I1</span> <span style=\"color: #808000; text-decoration-color: #808000\">season</span>=<span style=\"color: #008080; text-decoration-color: #008080; font-weight: bold\">2223</span>                                      <span style=\"color: #7f7f7f; text-decoration-color: #7f7f7f\">match_history.py:17</span>\n",
       "</pre>\n"
      ],
      "text/plain": [
       "\u001b[2;36m                   \u001b[0m\u001b[2;36m \u001b[0m\u001b[34mINFO    \u001b[0m Parsing \u001b[33mleague\u001b[0m=\u001b[35mI1\u001b[0m \u001b[33mseason\u001b[0m=\u001b[1;36m2223\u001b[0m                                      \u001b[2mmatch_history.py\u001b[0m\u001b[2m:\u001b[0m\u001b[2m17\u001b[0m\n"
      ]
     },
     "metadata": {},
     "output_type": "display_data"
    },
    {
     "data": {
      "text/html": [
       "<pre style=\"white-space:pre;overflow-x:auto;line-height:normal;font-family:Menlo,'DejaVu Sans Mono',consolas,'Courier New',monospace\"><span style=\"color: #7fbfbf; text-decoration-color: #7fbfbf\">                    </span><span style=\"color: #000080; text-decoration-color: #000080\">INFO    </span> Parsing <span style=\"color: #808000; text-decoration-color: #808000\">league</span>=<span style=\"color: #800080; text-decoration-color: #800080\">I1</span> <span style=\"color: #808000; text-decoration-color: #808000\">season</span>=<span style=\"color: #008080; text-decoration-color: #008080; font-weight: bold\">2324</span>                                      <span style=\"color: #7f7f7f; text-decoration-color: #7f7f7f\">match_history.py:17</span>\n",
       "</pre>\n"
      ],
      "text/plain": [
       "\u001b[2;36m                   \u001b[0m\u001b[2;36m \u001b[0m\u001b[34mINFO    \u001b[0m Parsing \u001b[33mleague\u001b[0m=\u001b[35mI1\u001b[0m \u001b[33mseason\u001b[0m=\u001b[1;36m2324\u001b[0m                                      \u001b[2mmatch_history.py\u001b[0m\u001b[2m:\u001b[0m\u001b[2m17\u001b[0m\n"
      ]
     },
     "metadata": {},
     "output_type": "display_data"
    },
    {
     "data": {
      "text/html": [
       "<pre style=\"white-space:pre;overflow-x:auto;line-height:normal;font-family:Menlo,'DejaVu Sans Mono',consolas,'Courier New',monospace\"><span style=\"color: #7fbfbf; text-decoration-color: #7fbfbf\">                    </span><span style=\"color: #000080; text-decoration-color: #000080\">INFO    </span> Parsing <span style=\"color: #808000; text-decoration-color: #808000\">league</span>=<span style=\"color: #800080; text-decoration-color: #800080\">I1</span> <span style=\"color: #808000; text-decoration-color: #808000\">season</span>=<span style=\"color: #008080; text-decoration-color: #008080; font-weight: bold\">2425</span>                                      <span style=\"color: #7f7f7f; text-decoration-color: #7f7f7f\">match_history.py:17</span>\n",
       "</pre>\n"
      ],
      "text/plain": [
       "\u001b[2;36m                   \u001b[0m\u001b[2;36m \u001b[0m\u001b[34mINFO    \u001b[0m Parsing \u001b[33mleague\u001b[0m=\u001b[35mI1\u001b[0m \u001b[33mseason\u001b[0m=\u001b[1;36m2425\u001b[0m                                      \u001b[2mmatch_history.py\u001b[0m\u001b[2m:\u001b[0m\u001b[2m17\u001b[0m\n"
      ]
     },
     "metadata": {},
     "output_type": "display_data"
    },
    {
     "data": {
      "text/html": [
       "<div>\n",
       "<style scoped>\n",
       "    .dataframe tbody tr th:only-of-type {\n",
       "        vertical-align: middle;\n",
       "    }\n",
       "\n",
       "    .dataframe tbody tr th {\n",
       "        vertical-align: top;\n",
       "    }\n",
       "\n",
       "    .dataframe thead th {\n",
       "        text-align: right;\n",
       "    }\n",
       "</style>\n",
       "<table border=\"1\" class=\"dataframe\">\n",
       "  <thead>\n",
       "    <tr style=\"text-align: right;\">\n",
       "      <th></th>\n",
       "      <th></th>\n",
       "      <th></th>\n",
       "      <th>date</th>\n",
       "      <th>home_team</th>\n",
       "      <th>away_team</th>\n",
       "      <th>FTHG</th>\n",
       "      <th>FTAG</th>\n",
       "      <th>FTR</th>\n",
       "      <th>HTHG</th>\n",
       "      <th>HTAG</th>\n",
       "      <th>HTR</th>\n",
       "      <th>referee</th>\n",
       "      <th>...</th>\n",
       "      <th>1XBCH</th>\n",
       "      <th>1XBCD</th>\n",
       "      <th>1XBCA</th>\n",
       "      <th>BFECH</th>\n",
       "      <th>BFECD</th>\n",
       "      <th>BFECA</th>\n",
       "      <th>BFEC&gt;2.5</th>\n",
       "      <th>BFEC&lt;2.5</th>\n",
       "      <th>BFECAHH</th>\n",
       "      <th>BFECAHA</th>\n",
       "    </tr>\n",
       "    <tr>\n",
       "      <th>league</th>\n",
       "      <th>season</th>\n",
       "      <th>game</th>\n",
       "      <th></th>\n",
       "      <th></th>\n",
       "      <th></th>\n",
       "      <th></th>\n",
       "      <th></th>\n",
       "      <th></th>\n",
       "      <th></th>\n",
       "      <th></th>\n",
       "      <th></th>\n",
       "      <th></th>\n",
       "      <th></th>\n",
       "      <th></th>\n",
       "      <th></th>\n",
       "      <th></th>\n",
       "      <th></th>\n",
       "      <th></th>\n",
       "      <th></th>\n",
       "      <th></th>\n",
       "      <th></th>\n",
       "      <th></th>\n",
       "      <th></th>\n",
       "    </tr>\n",
       "  </thead>\n",
       "  <tbody>\n",
       "    <tr>\n",
       "      <th rowspan=\"5\" valign=\"top\">ENG-Premier League</th>\n",
       "      <th rowspan=\"5\" valign=\"top\">0506</th>\n",
       "      <th>2005-08-13 Aston Villa-Bolton</th>\n",
       "      <td>2005-08-13 12:00:00</td>\n",
       "      <td>Aston Villa</td>\n",
       "      <td>Bolton</td>\n",
       "      <td>2.0</td>\n",
       "      <td>2.0</td>\n",
       "      <td>D</td>\n",
       "      <td>2.0</td>\n",
       "      <td>2.0</td>\n",
       "      <td>D</td>\n",
       "      <td>M Riley</td>\n",
       "      <td>...</td>\n",
       "      <td>NaN</td>\n",
       "      <td>NaN</td>\n",
       "      <td>NaN</td>\n",
       "      <td>NaN</td>\n",
       "      <td>NaN</td>\n",
       "      <td>NaN</td>\n",
       "      <td>NaN</td>\n",
       "      <td>NaN</td>\n",
       "      <td>NaN</td>\n",
       "      <td>NaN</td>\n",
       "    </tr>\n",
       "    <tr>\n",
       "      <th>2005-08-13 Everton-Man United</th>\n",
       "      <td>2005-08-13 12:00:00</td>\n",
       "      <td>Everton</td>\n",
       "      <td>Man United</td>\n",
       "      <td>0.0</td>\n",
       "      <td>2.0</td>\n",
       "      <td>A</td>\n",
       "      <td>0.0</td>\n",
       "      <td>1.0</td>\n",
       "      <td>A</td>\n",
       "      <td>G Poll</td>\n",
       "      <td>...</td>\n",
       "      <td>NaN</td>\n",
       "      <td>NaN</td>\n",
       "      <td>NaN</td>\n",
       "      <td>NaN</td>\n",
       "      <td>NaN</td>\n",
       "      <td>NaN</td>\n",
       "      <td>NaN</td>\n",
       "      <td>NaN</td>\n",
       "      <td>NaN</td>\n",
       "      <td>NaN</td>\n",
       "    </tr>\n",
       "    <tr>\n",
       "      <th>2005-08-13 Fulham-Birmingham</th>\n",
       "      <td>2005-08-13 12:00:00</td>\n",
       "      <td>Fulham</td>\n",
       "      <td>Birmingham</td>\n",
       "      <td>0.0</td>\n",
       "      <td>0.0</td>\n",
       "      <td>D</td>\n",
       "      <td>0.0</td>\n",
       "      <td>0.0</td>\n",
       "      <td>D</td>\n",
       "      <td>R Styles</td>\n",
       "      <td>...</td>\n",
       "      <td>NaN</td>\n",
       "      <td>NaN</td>\n",
       "      <td>NaN</td>\n",
       "      <td>NaN</td>\n",
       "      <td>NaN</td>\n",
       "      <td>NaN</td>\n",
       "      <td>NaN</td>\n",
       "      <td>NaN</td>\n",
       "      <td>NaN</td>\n",
       "      <td>NaN</td>\n",
       "    </tr>\n",
       "    <tr>\n",
       "      <th>2005-08-13 Man City-West Brom</th>\n",
       "      <td>2005-08-13 12:00:00</td>\n",
       "      <td>Man City</td>\n",
       "      <td>West Brom</td>\n",
       "      <td>0.0</td>\n",
       "      <td>0.0</td>\n",
       "      <td>D</td>\n",
       "      <td>0.0</td>\n",
       "      <td>0.0</td>\n",
       "      <td>D</td>\n",
       "      <td>C Foy</td>\n",
       "      <td>...</td>\n",
       "      <td>NaN</td>\n",
       "      <td>NaN</td>\n",
       "      <td>NaN</td>\n",
       "      <td>NaN</td>\n",
       "      <td>NaN</td>\n",
       "      <td>NaN</td>\n",
       "      <td>NaN</td>\n",
       "      <td>NaN</td>\n",
       "      <td>NaN</td>\n",
       "      <td>NaN</td>\n",
       "    </tr>\n",
       "    <tr>\n",
       "      <th>2005-08-13 Middlesbrough-Liverpool</th>\n",
       "      <td>2005-08-13 12:00:00</td>\n",
       "      <td>Middlesbrough</td>\n",
       "      <td>Liverpool</td>\n",
       "      <td>0.0</td>\n",
       "      <td>0.0</td>\n",
       "      <td>D</td>\n",
       "      <td>0.0</td>\n",
       "      <td>0.0</td>\n",
       "      <td>D</td>\n",
       "      <td>M Halsey</td>\n",
       "      <td>...</td>\n",
       "      <td>NaN</td>\n",
       "      <td>NaN</td>\n",
       "      <td>NaN</td>\n",
       "      <td>NaN</td>\n",
       "      <td>NaN</td>\n",
       "      <td>NaN</td>\n",
       "      <td>NaN</td>\n",
       "      <td>NaN</td>\n",
       "      <td>NaN</td>\n",
       "      <td>NaN</td>\n",
       "    </tr>\n",
       "  </tbody>\n",
       "</table>\n",
       "<p>5 rows × 163 columns</p>\n",
       "</div>"
      ],
      "text/plain": [
       "                                                                            date  \\\n",
       "league             season game                                                     \n",
       "ENG-Premier League 0506   2005-08-13 Aston Villa-Bolton      2005-08-13 12:00:00   \n",
       "                          2005-08-13 Everton-Man United      2005-08-13 12:00:00   \n",
       "                          2005-08-13 Fulham-Birmingham       2005-08-13 12:00:00   \n",
       "                          2005-08-13 Man City-West Brom      2005-08-13 12:00:00   \n",
       "                          2005-08-13 Middlesbrough-Liverpool 2005-08-13 12:00:00   \n",
       "\n",
       "                                                                  home_team  \\\n",
       "league             season game                                                \n",
       "ENG-Premier League 0506   2005-08-13 Aston Villa-Bolton         Aston Villa   \n",
       "                          2005-08-13 Everton-Man United             Everton   \n",
       "                          2005-08-13 Fulham-Birmingham               Fulham   \n",
       "                          2005-08-13 Man City-West Brom            Man City   \n",
       "                          2005-08-13 Middlesbrough-Liverpool  Middlesbrough   \n",
       "\n",
       "                                                               away_team  \\\n",
       "league             season game                                             \n",
       "ENG-Premier League 0506   2005-08-13 Aston Villa-Bolton           Bolton   \n",
       "                          2005-08-13 Everton-Man United       Man United   \n",
       "                          2005-08-13 Fulham-Birmingham        Birmingham   \n",
       "                          2005-08-13 Man City-West Brom        West Brom   \n",
       "                          2005-08-13 Middlesbrough-Liverpool   Liverpool   \n",
       "\n",
       "                                                              FTHG  FTAG FTR  \\\n",
       "league             season game                                                 \n",
       "ENG-Premier League 0506   2005-08-13 Aston Villa-Bolton        2.0   2.0   D   \n",
       "                          2005-08-13 Everton-Man United        0.0   2.0   A   \n",
       "                          2005-08-13 Fulham-Birmingham         0.0   0.0   D   \n",
       "                          2005-08-13 Man City-West Brom        0.0   0.0   D   \n",
       "                          2005-08-13 Middlesbrough-Liverpool   0.0   0.0   D   \n",
       "\n",
       "                                                              HTHG  HTAG HTR  \\\n",
       "league             season game                                                 \n",
       "ENG-Premier League 0506   2005-08-13 Aston Villa-Bolton        2.0   2.0   D   \n",
       "                          2005-08-13 Everton-Man United        0.0   1.0   A   \n",
       "                          2005-08-13 Fulham-Birmingham         0.0   0.0   D   \n",
       "                          2005-08-13 Man City-West Brom        0.0   0.0   D   \n",
       "                          2005-08-13 Middlesbrough-Liverpool   0.0   0.0   D   \n",
       "\n",
       "                                                               referee  ...  \\\n",
       "league             season game                                          ...   \n",
       "ENG-Premier League 0506   2005-08-13 Aston Villa-Bolton        M Riley  ...   \n",
       "                          2005-08-13 Everton-Man United         G Poll  ...   \n",
       "                          2005-08-13 Fulham-Birmingham        R Styles  ...   \n",
       "                          2005-08-13 Man City-West Brom          C Foy  ...   \n",
       "                          2005-08-13 Middlesbrough-Liverpool  M Halsey  ...   \n",
       "\n",
       "                                                              1XBCH  1XBCD  \\\n",
       "league             season game                                               \n",
       "ENG-Premier League 0506   2005-08-13 Aston Villa-Bolton         NaN    NaN   \n",
       "                          2005-08-13 Everton-Man United         NaN    NaN   \n",
       "                          2005-08-13 Fulham-Birmingham          NaN    NaN   \n",
       "                          2005-08-13 Man City-West Brom         NaN    NaN   \n",
       "                          2005-08-13 Middlesbrough-Liverpool    NaN    NaN   \n",
       "\n",
       "                                                              1XBCA  BFECH  \\\n",
       "league             season game                                               \n",
       "ENG-Premier League 0506   2005-08-13 Aston Villa-Bolton         NaN    NaN   \n",
       "                          2005-08-13 Everton-Man United         NaN    NaN   \n",
       "                          2005-08-13 Fulham-Birmingham          NaN    NaN   \n",
       "                          2005-08-13 Man City-West Brom         NaN    NaN   \n",
       "                          2005-08-13 Middlesbrough-Liverpool    NaN    NaN   \n",
       "\n",
       "                                                              BFECD  BFECA  \\\n",
       "league             season game                                               \n",
       "ENG-Premier League 0506   2005-08-13 Aston Villa-Bolton         NaN    NaN   \n",
       "                          2005-08-13 Everton-Man United         NaN    NaN   \n",
       "                          2005-08-13 Fulham-Birmingham          NaN    NaN   \n",
       "                          2005-08-13 Man City-West Brom         NaN    NaN   \n",
       "                          2005-08-13 Middlesbrough-Liverpool    NaN    NaN   \n",
       "\n",
       "                                                              BFEC>2.5  \\\n",
       "league             season game                                           \n",
       "ENG-Premier League 0506   2005-08-13 Aston Villa-Bolton            NaN   \n",
       "                          2005-08-13 Everton-Man United            NaN   \n",
       "                          2005-08-13 Fulham-Birmingham             NaN   \n",
       "                          2005-08-13 Man City-West Brom            NaN   \n",
       "                          2005-08-13 Middlesbrough-Liverpool       NaN   \n",
       "\n",
       "                                                              BFEC<2.5  \\\n",
       "league             season game                                           \n",
       "ENG-Premier League 0506   2005-08-13 Aston Villa-Bolton            NaN   \n",
       "                          2005-08-13 Everton-Man United            NaN   \n",
       "                          2005-08-13 Fulham-Birmingham             NaN   \n",
       "                          2005-08-13 Man City-West Brom            NaN   \n",
       "                          2005-08-13 Middlesbrough-Liverpool       NaN   \n",
       "\n",
       "                                                              BFECAHH  BFECAHA  \n",
       "league             season game                                                  \n",
       "ENG-Premier League 0506   2005-08-13 Aston Villa-Bolton           NaN      NaN  \n",
       "                          2005-08-13 Everton-Man United           NaN      NaN  \n",
       "                          2005-08-13 Fulham-Birmingham            NaN      NaN  \n",
       "                          2005-08-13 Man City-West Brom           NaN      NaN  \n",
       "                          2005-08-13 Middlesbrough-Liverpool      NaN      NaN  \n",
       "\n",
       "[5 rows x 163 columns]"
      ]
     },
     "execution_count": 4,
     "metadata": {},
     "output_type": "execute_result"
    }
   ],
   "source": [
    "# Add the parent directory to sys.path\n",
    "sys.path.append(os.path.abspath(\"..\"))  # Adjust as needed\n",
    "\n",
    "TIME_PERIOD = 20 # How far back are we looking\n",
    "CACHE_DIR = Path(\"../data/home advantage cache\")\n",
    "\n",
    "# Using Match History to get match specific data like if a team is home\n",
    "match_history = sd.MatchHistory(\n",
    "    leagues=BIG_FIVE_LEAGUES, # Premier League, Seria A, La Liga, Bunsaliga, Ligue 1 \n",
    "    seasons=range(2025 - TIME_PERIOD, 2025),\n",
    "    no_cache=False,\n",
    "    no_store=False,\n",
    "    data_dir=CACHE_DIR\n",
    ") \n",
    "\n",
    "games = match_history.read_games()\n",
    "games.head()"
   ]
  }
 ],
 "metadata": {
  "kernelspec": {
   "display_name": ".venv",
   "language": "python",
   "name": "python3"
  },
  "language_info": {
   "codemirror_mode": {
    "name": "ipython",
    "version": 3
   },
   "file_extension": ".py",
   "mimetype": "text/x-python",
   "name": "python",
   "nbconvert_exporter": "python",
   "pygments_lexer": "ipython3",
   "version": "3.11.0"
  }
 },
 "nbformat": 4,
 "nbformat_minor": 5
}
